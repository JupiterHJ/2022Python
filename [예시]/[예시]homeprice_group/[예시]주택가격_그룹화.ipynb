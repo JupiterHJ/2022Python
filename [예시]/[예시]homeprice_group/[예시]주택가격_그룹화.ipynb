{
  "nbformat": 4,
  "nbformat_minor": 0,
  "metadata": {
    "colab": {
      "name": "주택가격 그룹화.ipynb",
      "provenance": [],
      "collapsed_sections": []
    },
    "kernelspec": {
      "name": "python3",
      "display_name": "Python 3"
    },
    "language_info": {
      "name": "python"
    }
  },
  "cells": [
    {
      "cell_type": "code",
      "execution_count": null,
      "metadata": {
        "colab": {
          "base_uri": "https://localhost:8080/"
        },
        "id": "tKwK7jY_KpPE",
        "outputId": "cbec1a81-59fe-4d43-8d67-9d22d1d7665c"
      },
      "outputs": [
        {
          "output_type": "stream",
          "name": "stdout",
          "text": [
            "/usr/share/fonts: caching, new cache contents: 0 fonts, 1 dirs\n",
            "/usr/share/fonts/truetype: caching, new cache contents: 0 fonts, 3 dirs\n",
            "/usr/share/fonts/truetype/humor-sans: caching, new cache contents: 1 fonts, 0 dirs\n",
            "/usr/share/fonts/truetype/liberation: caching, new cache contents: 16 fonts, 0 dirs\n",
            "/usr/share/fonts/truetype/nanum: caching, new cache contents: 10 fonts, 0 dirs\n",
            "/usr/local/share/fonts: caching, new cache contents: 0 fonts, 0 dirs\n",
            "/root/.local/share/fonts: skipping, no such directory\n",
            "/root/.fonts: skipping, no such directory\n",
            "/var/cache/fontconfig: cleaning cache directory\n",
            "/root/.cache/fontconfig: not cleaning non-existent cache directory\n",
            "/root/.fontconfig: not cleaning non-existent cache directory\n",
            "fc-cache: succeeded\n"
          ]
        },
        {
          "output_type": "execute_result",
          "data": {
            "text/plain": [
              "['NanumSquareRound',\n",
              " 'NanumMyeongjo',\n",
              " 'NanumGothic',\n",
              " 'NanumGothic',\n",
              " 'NanumSquare',\n",
              " 'NanumBarunGothic',\n",
              " 'NanumMyeongjo',\n",
              " 'NanumSquareRound',\n",
              " 'NanumSquare',\n",
              " 'NanumBarunGothic']"
            ]
          },
          "metadata": {},
          "execution_count": 7
        }
      ],
      "source": [
        "#한글폰트설치\n",
        "!apt-get install fonts-nanum -qq > /dev/null\n",
        "!fc-cache -fv\n",
        "import matplotlib as mpl\n",
        "mpl.font_manager._rebuild()\n",
        "findfont = mpl.font_manager.fontManager.findfont\n",
        "mpl.font_manager.findfont = findfont\n",
        "mpl.backends.backend_agg.findfont = findfont\n",
        "plt.rcParams['axes.unicode_minus'] = False\n",
        "import matplotlib.font_manager\n",
        "font_list = matplotlib.font_manager.findSystemFonts(fontpaths=None, fontext='ttf')\n",
        "[matplotlib.font_manager.FontProperties(fname=font).get_name() for font in font_list if 'Nanum' in font]"
      ]
    },
    {
      "cell_type": "code",
      "source": [
        "#라이브러리 불러오기\n",
        "!git clone https://github.com/JupiterHJ/Korea_homeprice_group.git"
      ],
      "metadata": {
        "colab": {
          "base_uri": "https://localhost:8080/"
        },
        "id": "itMuHwULTCrM",
        "outputId": "587680f7-6dfe-406f-9b68-c72c97b6377f"
      },
      "execution_count": null,
      "outputs": [
        {
          "output_type": "stream",
          "name": "stdout",
          "text": [
            "fatal: destination path 'Korea_homeprice_group' already exists and is not an empty directory.\n"
          ]
        }
      ]
    },
    {
      "cell_type": "code",
      "source": [
        "#데이터 읽어오기\n",
        "import pandas as pd\n",
        "df = pd.read_csv('/content/Korea_homeprice_group/평균매매가격.csv', encoding='UTF8', index_col=0)\n",
        "\n",
        "#데이터 자료형 확인하기\n",
        "print(df.info())\n",
        "print(df.dtypes)"
      ],
      "metadata": {
        "colab": {
          "base_uri": "https://localhost:8080/"
        },
        "id": "b06BptWuOW4T",
        "outputId": "20b18cd0-0199-4542-dbfa-7d6221ff1aae"
      },
      "execution_count": null,
      "outputs": [
        {
          "output_type": "stream",
          "name": "stdout",
          "text": [
            "<class 'pandas.core.frame.DataFrame'>\n",
            "Index: 73 entries, 종로구 to 서구\n",
            "Columns: 127 entries, 2012년 01월 to 2022년 07월\n",
            "dtypes: object(127)\n",
            "memory usage: 73.0+ KB\n",
            "None\n",
            "2012년 01월    object\n",
            "2012년 02월    object\n",
            "2012년 03월    object\n",
            "2012년 04월    object\n",
            "2012년 05월    object\n",
            "              ...  \n",
            "2022년 03월    object\n",
            "2022년 04월    object\n",
            "2022년 05월    object\n",
            "2022년 06월    object\n",
            "2022년 07월    object\n",
            "Length: 127, dtype: object\n"
          ]
        }
      ]
    },
    {
      "cell_type": "code",
      "source": [
        "#float로 뜨게 자료형 데이터 변경\n",
        "df = df.apply(pd.to_numeric, errors='coerce')\n",
        "print(df.info())\n",
        "print(df.dtypes)"
      ],
      "metadata": {
        "colab": {
          "base_uri": "https://localhost:8080/"
        },
        "id": "6ybT6VTrXsRL",
        "outputId": "10351e2e-e9a6-4de4-d3d1-1920a0e2f926"
      },
      "execution_count": null,
      "outputs": [
        {
          "output_type": "stream",
          "name": "stdout",
          "text": [
            "<class 'pandas.core.frame.DataFrame'>\n",
            "Index: 73 entries, 종로구 to 서구\n",
            "Columns: 127 entries, 2012년 01월 to 2022년 07월\n",
            "dtypes: float64(127)\n",
            "memory usage: 73.0+ KB\n",
            "None\n",
            "2012년 01월    float64\n",
            "2012년 02월    float64\n",
            "2012년 03월    float64\n",
            "2012년 04월    float64\n",
            "2012년 05월    float64\n",
            "              ...   \n",
            "2022년 03월    float64\n",
            "2022년 04월    float64\n",
            "2022년 05월    float64\n",
            "2022년 06월    float64\n",
            "2022년 07월    float64\n",
            "Length: 127, dtype: object\n"
          ]
        }
      ]
    },
    {
      "cell_type": "markdown",
      "source": [
        "# **1. 주택가격 흐름이 비슷한 지역 찾기**"
      ],
      "metadata": {
        "id": "AL-HJxUdkJmo"
      }
    },
    {
      "cell_type": "code",
      "source": [
        "#1.지역입력하기\n",
        "import numpy as np\n",
        "\n",
        "name = input('원하는 지역 이름을 입력해주세요. (예: 구로구) : ')\n",
        "a = df.index.str.contains(name)   #a = df.index.str.contains(name)\n",
        "df2 = df[a]\n",
        "df2"
      ],
      "metadata": {
        "colab": {
          "base_uri": "https://localhost:8080/",
          "height": 245
        },
        "id": "8hYw36xunPmy",
        "outputId": "fda4a353-1076-4796-b0e9-72a4fc8e8abc"
      },
      "execution_count": null,
      "outputs": [
        {
          "name": "stdout",
          "output_type": "stream",
          "text": [
            "원하는 지역 이름을 입력해주세요. (예: 구로구) : 구로구\n"
          ]
        },
        {
          "output_type": "execute_result",
          "data": {
            "text/plain": [
              "     2012년 01월  2012년 02월  2012년 03월  2012년 04월  2012년 05월  2012년 06월  \\\n",
              "구로구   351344.0   350573.0   350500.0   350000.0   348365.0   346667.0   \n",
              "\n",
              "     2012년 07월  2012년 08월  2012년 09월  2012년 10월  ...  2021년 10월  2021년 11월  \\\n",
              "구로구   345240.0   343083.0   341771.0   340823.0  ...   683172.0   688553.0   \n",
              "\n",
              "     2021년 12월  2022년 01월  2022년 02월  2022년 03월  2022년 04월  2022년 05월  \\\n",
              "구로구   691352.0   691836.0   691471.0   690980.0   690512.0   690299.0   \n",
              "\n",
              "     2022년 06월  2022년 07월  \n",
              "구로구   689727.0   688158.0  \n",
              "\n",
              "[1 rows x 127 columns]"
            ],
            "text/html": [
              "\n",
              "  <div id=\"df-ecd376f5-b999-4aad-a8ac-c7639d3b785e\">\n",
              "    <div class=\"colab-df-container\">\n",
              "      <div>\n",
              "<style scoped>\n",
              "    .dataframe tbody tr th:only-of-type {\n",
              "        vertical-align: middle;\n",
              "    }\n",
              "\n",
              "    .dataframe tbody tr th {\n",
              "        vertical-align: top;\n",
              "    }\n",
              "\n",
              "    .dataframe thead th {\n",
              "        text-align: right;\n",
              "    }\n",
              "</style>\n",
              "<table border=\"1\" class=\"dataframe\">\n",
              "  <thead>\n",
              "    <tr style=\"text-align: right;\">\n",
              "      <th></th>\n",
              "      <th>2012년 01월</th>\n",
              "      <th>2012년 02월</th>\n",
              "      <th>2012년 03월</th>\n",
              "      <th>2012년 04월</th>\n",
              "      <th>2012년 05월</th>\n",
              "      <th>2012년 06월</th>\n",
              "      <th>2012년 07월</th>\n",
              "      <th>2012년 08월</th>\n",
              "      <th>2012년 09월</th>\n",
              "      <th>2012년 10월</th>\n",
              "      <th>...</th>\n",
              "      <th>2021년 10월</th>\n",
              "      <th>2021년 11월</th>\n",
              "      <th>2021년 12월</th>\n",
              "      <th>2022년 01월</th>\n",
              "      <th>2022년 02월</th>\n",
              "      <th>2022년 03월</th>\n",
              "      <th>2022년 04월</th>\n",
              "      <th>2022년 05월</th>\n",
              "      <th>2022년 06월</th>\n",
              "      <th>2022년 07월</th>\n",
              "    </tr>\n",
              "  </thead>\n",
              "  <tbody>\n",
              "    <tr>\n",
              "      <th>구로구</th>\n",
              "      <td>351344.0</td>\n",
              "      <td>350573.0</td>\n",
              "      <td>350500.0</td>\n",
              "      <td>350000.0</td>\n",
              "      <td>348365.0</td>\n",
              "      <td>346667.0</td>\n",
              "      <td>345240.0</td>\n",
              "      <td>343083.0</td>\n",
              "      <td>341771.0</td>\n",
              "      <td>340823.0</td>\n",
              "      <td>...</td>\n",
              "      <td>683172.0</td>\n",
              "      <td>688553.0</td>\n",
              "      <td>691352.0</td>\n",
              "      <td>691836.0</td>\n",
              "      <td>691471.0</td>\n",
              "      <td>690980.0</td>\n",
              "      <td>690512.0</td>\n",
              "      <td>690299.0</td>\n",
              "      <td>689727.0</td>\n",
              "      <td>688158.0</td>\n",
              "    </tr>\n",
              "  </tbody>\n",
              "</table>\n",
              "<p>1 rows × 127 columns</p>\n",
              "</div>\n",
              "      <button class=\"colab-df-convert\" onclick=\"convertToInteractive('df-ecd376f5-b999-4aad-a8ac-c7639d3b785e')\"\n",
              "              title=\"Convert this dataframe to an interactive table.\"\n",
              "              style=\"display:none;\">\n",
              "        \n",
              "  <svg xmlns=\"http://www.w3.org/2000/svg\" height=\"24px\"viewBox=\"0 0 24 24\"\n",
              "       width=\"24px\">\n",
              "    <path d=\"M0 0h24v24H0V0z\" fill=\"none\"/>\n",
              "    <path d=\"M18.56 5.44l.94 2.06.94-2.06 2.06-.94-2.06-.94-.94-2.06-.94 2.06-2.06.94zm-11 1L8.5 8.5l.94-2.06 2.06-.94-2.06-.94L8.5 2.5l-.94 2.06-2.06.94zm10 10l.94 2.06.94-2.06 2.06-.94-2.06-.94-.94-2.06-.94 2.06-2.06.94z\"/><path d=\"M17.41 7.96l-1.37-1.37c-.4-.4-.92-.59-1.43-.59-.52 0-1.04.2-1.43.59L10.3 9.45l-7.72 7.72c-.78.78-.78 2.05 0 2.83L4 21.41c.39.39.9.59 1.41.59.51 0 1.02-.2 1.41-.59l7.78-7.78 2.81-2.81c.8-.78.8-2.07 0-2.86zM5.41 20L4 18.59l7.72-7.72 1.47 1.35L5.41 20z\"/>\n",
              "  </svg>\n",
              "      </button>\n",
              "      \n",
              "  <style>\n",
              "    .colab-df-container {\n",
              "      display:flex;\n",
              "      flex-wrap:wrap;\n",
              "      gap: 12px;\n",
              "    }\n",
              "\n",
              "    .colab-df-convert {\n",
              "      background-color: #E8F0FE;\n",
              "      border: none;\n",
              "      border-radius: 50%;\n",
              "      cursor: pointer;\n",
              "      display: none;\n",
              "      fill: #1967D2;\n",
              "      height: 32px;\n",
              "      padding: 0 0 0 0;\n",
              "      width: 32px;\n",
              "    }\n",
              "\n",
              "    .colab-df-convert:hover {\n",
              "      background-color: #E2EBFA;\n",
              "      box-shadow: 0px 1px 2px rgba(60, 64, 67, 0.3), 0px 1px 3px 1px rgba(60, 64, 67, 0.15);\n",
              "      fill: #174EA6;\n",
              "    }\n",
              "\n",
              "    [theme=dark] .colab-df-convert {\n",
              "      background-color: #3B4455;\n",
              "      fill: #D2E3FC;\n",
              "    }\n",
              "\n",
              "    [theme=dark] .colab-df-convert:hover {\n",
              "      background-color: #434B5C;\n",
              "      box-shadow: 0px 1px 3px 1px rgba(0, 0, 0, 0.15);\n",
              "      filter: drop-shadow(0px 1px 2px rgba(0, 0, 0, 0.3));\n",
              "      fill: #FFFFFF;\n",
              "    }\n",
              "  </style>\n",
              "\n",
              "      <script>\n",
              "        const buttonEl =\n",
              "          document.querySelector('#df-ecd376f5-b999-4aad-a8ac-c7639d3b785e button.colab-df-convert');\n",
              "        buttonEl.style.display =\n",
              "          google.colab.kernel.accessAllowed ? 'block' : 'none';\n",
              "\n",
              "        async function convertToInteractive(key) {\n",
              "          const element = document.querySelector('#df-ecd376f5-b999-4aad-a8ac-c7639d3b785e');\n",
              "          const dataTable =\n",
              "            await google.colab.kernel.invokeFunction('convertToInteractive',\n",
              "                                                     [key], {});\n",
              "          if (!dataTable) return;\n",
              "\n",
              "          const docLinkHtml = 'Like what you see? Visit the ' +\n",
              "            '<a target=\"_blank\" href=https://colab.research.google.com/notebooks/data_table.ipynb>data table notebook</a>'\n",
              "            + ' to learn more about interactive tables.';\n",
              "          element.innerHTML = '';\n",
              "          dataTable['output_type'] = 'display_data';\n",
              "          await google.colab.output.renderOutput(dataTable, element);\n",
              "          const docLink = document.createElement('div');\n",
              "          docLink.innerHTML = docLinkHtml;\n",
              "          element.appendChild(docLink);\n",
              "        }\n",
              "      </script>\n",
              "    </div>\n",
              "  </div>\n",
              "  "
            ]
          },
          "metadata": {},
          "execution_count": 13
        }
      ]
    },
    {
      "cell_type": "code",
      "source": [
        "#2. 그래프로 시각화하기\n",
        "import matplotlib.pyplot as plt\n",
        "\n",
        "#빼고(sub) 제곱값(power)을 모두 더함(sum), sort_values(정렬)\n",
        "i = input('몇 개의 지역까지 나타내시겠습니까? (예:5) : ')\n",
        "plt.rc('font', family='NanumGothic')\n",
        "df.loc[np.power(df.sub(df2.iloc[0], axis=1), 2).sum(axis=1).sort_values().index[:int(i)]].T.plot()\n",
        "plt.show()"
      ],
      "metadata": {
        "colab": {
          "base_uri": "https://localhost:8080/",
          "height": 283
        },
        "id": "8bb6SBzys9NP",
        "outputId": "72978ba9-4447-4509-a30b-eb1d71d15f28"
      },
      "execution_count": null,
      "outputs": [
        {
          "name": "stdout",
          "output_type": "stream",
          "text": [
            "몇 개의 지역까지 나타내시겠습니까? (예:5) : 6\n"
          ]
        },
        {
          "output_type": "display_data",
          "data": {
            "text/plain": [
              "<Figure size 432x288 with 1 Axes>"
            ],
            "image/png": "[encoded data removed]"
          },
          "metadata": {
            "needs_background": "light"
          }
        }
      ]
    },
    {
      "cell_type": "markdown",
      "source": [
        "# 2. 실거래가 확인하기\n",
        " - https://eslife.tistory.com/1100\n",
        "\n",
        "\n",
        "# 3. 주택가격 싸이클이 비슷한 구간 찾기\n"
      ],
      "metadata": {
        "id": "LyWDj9YEkP3L"
      }
    }
  ]
}