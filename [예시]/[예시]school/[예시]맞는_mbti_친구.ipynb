{
  "nbformat": 4,
  "nbformat_minor": 0,
  "metadata": {
    "colab": {
      "name": "[예시]맞는 mbti 친구.ipynb",
      "provenance": [],
      "collapsed_sections": []
    },
    "kernelspec": {
      "name": "python3",
      "display_name": "Python 3"
    },
    "language_info": {
      "name": "python"
    }
  },
  "cells": [
    {
      "cell_type": "code",
      "source": [
        "import csv\n",
        "import time\n",
        "\n",
        "data = csv.reader(open('classmbti.csv')) #csv파일을 불러옵니다.\n",
        "print(\"우리 반 친구들 중 나와 잘 맞는 MBTI를 가진 친구를 알아봅시다.\")\n",
        "print(\"MBTI궁합은 과학적 근거가 없으니 해당 테스트는 재미로 봐주시길 바랍니다.\")\n",
        "time.sleep(1)\n",
        "yourmbti = input(\"당신의 MBTI를 입력해주세요.(대문자로 입력해주세요.)\") #사용자의 MBTI를 입력받습니다.\n",
        "\n",
        "for row in data:\n",
        "  if row[3] == yourmbti:  #csv데이터에서 입력한 MBTI와 잘맞는 궁합의 MBTI를 읽어옵니다.\n",
        "    print(\"당신과 잘 어울리는 MBTI는 \" + row[4] +\"입니다.\")\n",
        "    goodmbti= row[4].split(',')  #궁합인 MBTI가 여러개라 리스트로 정리하였습니다.\n",
        "    print(\"우리 학급에서 당신과 잘어울리는 MBTI를 가지고 있는 사람은?\")\n",
        "    time.sleep(1)\n",
        "    break\n",
        "\n",
        "data = csv.reader(open('classmbti.csv'))  #파일을 다시 불러와서 이번엔 학생명단에서 검색합니다.\n",
        "for rows in data:\n",
        "  for i in range(len(goodmbti)):  #나와 궁합이 맞았던 MBTI를 가진 학생의 명단을 불러옵니다.\n",
        "    if rows[1] == goodmbti[i]:\n",
        "      print(goodmbti[i] + \" \" + rows[0])"
      ],
      "metadata": {
        "id": "vMimhD3lbfI7"
      },
      "execution_count": null,
      "outputs": []
    }
  ]
}