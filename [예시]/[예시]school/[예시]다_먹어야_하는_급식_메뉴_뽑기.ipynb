{
  "nbformat": 4,
  "nbformat_minor": 0,
  "metadata": {
    "colab": {
      "name": "[예시]다 먹어야 하는 급식 메뉴 뽑기.ipynb",
      "provenance": [],
      "collapsed_sections": []
    },
    "kernelspec": {
      "name": "python3",
      "display_name": "Python 3"
    },
    "language_info": {
      "name": "python"
    }
  },
  "cells": [
    {
      "cell_type": "code",
      "execution_count": null,
      "metadata": {
        "id": "75AtisHubn_s"
      },
      "outputs": [],
      "source": [
        "import random\n",
        "import time\n",
        "\n",
        "todaymenu = list(input('오늘의 급식을 입력하세요 : ').split()) #띄어쓰기해서 음식 입력하기\n",
        "time.sleep(1.5)\n",
        "print(str(todaymenu)+' 중에서')\n",
        "\n",
        "data = open('우리반명단.txt')\n",
        "names = []\n",
        "for row in data :\n",
        "  names.append(row)\n",
        "\n",
        "time.sleep(1.5)\n",
        "print(random.choice(names).strip()+' 학생이 다 먹어야 할 음식은!')\n",
        "time.sleep(3)\n",
        "print(random.choice(todaymenu)+'입니다!')"
      ]
    }
  ]
}