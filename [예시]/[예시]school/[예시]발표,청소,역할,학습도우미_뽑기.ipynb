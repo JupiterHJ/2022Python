{
  "nbformat": 4,
  "nbformat_minor": 0,
  "metadata": {
    "colab": {
      "name": "[예시]발표,청소,역할,학습도우미 뽑기.ipynb",
      "provenance": [],
      "collapsed_sections": []
    },
    "kernelspec": {
      "name": "python3",
      "display_name": "Python 3"
    },
    "language_info": {
      "name": "python"
    }
  },
  "cells": [
    {
      "cell_type": "markdown",
      "source": [
        "**1. 발표 랜덤뽑기**"
      ],
      "metadata": {
        "id": "tK5ATDoD47oU"
      }
    },
    {
      "cell_type": "code",
      "source": [
        "#인원수 설정하여 랜덤뽑기\n",
        "\n",
        "data = open('명단.txt')\n",
        "\n",
        "import random\n",
        "import time\n",
        "\n",
        "all = []\n",
        "cho = []\n",
        "\n",
        "que2 = input('몇 명을 뽑을까요? 숫자만 입력해주세요 :')\n",
        "\n",
        "for row in data :\n",
        "  all.append(row)\n",
        "\n",
        "cycle = 0\n",
        "\n",
        "while cycle != int(que2) :\n",
        "  cho.append(random.choice(all)[0:3])\n",
        "  cycle = cycle +1\n",
        "\n",
        "else :\n",
        "  print(cho)\n",
        "  time.sleep(1)\n",
        "  print('끝')"
      ],
      "metadata": {
        "id": "xL2dZaSR36_m"
      },
      "execution_count": null,
      "outputs": []
    },
    {
      "cell_type": "markdown",
      "source": [
        "**2. 청소구역 자동뽑기**"
      ],
      "metadata": {
        "id": "CNY6eOAp3fBc"
      }
    },
    {
      "cell_type": "code",
      "execution_count": null,
      "metadata": {
        "id": "zgLRVDqG1qCm"
      },
      "outputs": [],
      "source": [
        "import csv\n",
        "import random\n",
        "import time\n",
        "\n",
        "data = csv.reader(open('/content/sample_data/name_list.csv'))  #우리반명단 csv\n",
        "next(data)\n",
        "names = [] # 우리반 명단\n",
        "\n",
        "for row in data :\n",
        "    names.append(str(row[-1]))\n",
        "\n",
        "# 청소구역 정하기\n",
        "front_classroom = []\n",
        "behind_classroom = []\n",
        "window = []\n",
        "locker = []\n",
        "hallway = []\n",
        "speacial = []\n",
        "\n",
        "while len(front_classroom) < 5 :\n",
        "    choice_people = random.choice(names)\n",
        "    print('교실 앞 청소 당첨자는 바로....')\n",
        "    time.sleep(3)\n",
        "    print(choice_people + '입니다!!!')\n",
        "    front_classroom.append(choice_people)\n",
        "    names.remove(choice_people)\n",
        "\n",
        "while len(behind_classroom) < 5 :\n",
        "    choice_people = random.choice(names)\n",
        "    print('교실 뒤 청소 당첨자는 바로....')\n",
        "    time.sleep(3)\n",
        "    print(choice_people + '입니다!!!')\n",
        "    behind_classroom.append(choice_people)\n",
        "    names.remove(choice_people)\n",
        "\n",
        "while len(window) < 5 :\n",
        "    choice_people = random.choice(names)\n",
        "    print('창문 청소 당첨자는 바로....')\n",
        "    time.sleep(3)\n",
        "    print(choice_people + '입니다!!!')\n",
        "    window.append(choice_people)\n",
        "    names.remove(choice_people)\n",
        "\n",
        "while len(locker) < 5 :\n",
        "    choice_people = random.choice(names)\n",
        "    print('사물함,자료대 청소 당첨자는 바로....')\n",
        "    time.sleep(3)\n",
        "    print(choice_people + '입니다!!!')\n",
        "    locker.append(choice_people)\n",
        "    names.remove(choice_people)\n",
        "\n",
        "while len(hallway) < 5 :\n",
        "    choice_people = random.choice(names)\n",
        "    print('복도 청소 당첨자는 바로....')\n",
        "    time.sleep(3)\n",
        "    print(choice_people + '입니다!!!')\n",
        "    hallway.append(choice_people)\n",
        "    names.remove(choice_people)\n",
        "\n",
        "while len(speacial) < 5 :\n",
        "    choice_people = random.choice(names)\n",
        "    print('특별구역 청소 당첨자는 바로....')\n",
        "    time.sleep(3)\n",
        "    print(choice_people + '입니다!!!')\n",
        "    speacial.append(choice_people)\n",
        "    names.remove(choice_people)\n",
        "\n",
        "# 전체 명단 재안내\n",
        "print('이번주 교실 앞 청소 담당은' + str(front_classroom) + '입니다!!!')\n",
        "time.sleep(2)\n",
        "print('이번주 교실 뒤 청소 담당은' + str(behind_classroom) + '입니다!!!')\n",
        "time.sleep(2)\n",
        "print('이번주 창문 청소 담당은' + str(window) + '입니다!!!')\n",
        "time.sleep(2)\n",
        "print('이번주 사물함, 자료대 청소 담당은' + str(locker) + '입니다!!!')\n",
        "time.sleep(2)\n",
        "print('이번주 복도 청소 담당은' + str(hallway) + '입니다!!!')\n",
        "time.sleep(2)\n",
        "print('이번주 특별구역 청소 담당은' + str(speacial) + '입니다!!!')\n",
        "\n",
        "# 다 뽑혔는지 검증\n",
        "if len(names) == 0:\n",
        "    print('이번주도 흥겹게 청소를 열심히 합시다!')"
      ]
    },
    {
      "cell_type": "markdown",
      "source": [
        "**3. 역할 랜덤뽑기**"
      ],
      "metadata": {
        "id": "R-IF6HK85BNw"
      }
    },
    {
      "cell_type": "code",
      "source": [
        "import random           \n",
        "                         \n",
        "data = open(\"name.txt\")    \n",
        "stunames=[]              \n",
        "for row in data :        \n",
        "  stunames.append(row)\n",
        "\n",
        "#역할 정의 \n",
        "role1 = \"playing\"\n",
        "role2 = \"speaking\"\n",
        "role3 = \"lying\"\n",
        "\n",
        "#role1 역할의 사람3명뽑기 \n",
        "i = 0\n",
        "\n",
        "while True:\n",
        " stu = stunames[random.randint(0,len(stunames)-1)]\n",
        " stunames.remove(stu)   #뽑힌 사람은 리스트에서 제거 \n",
        " print(\"{0}은 {1}역할에 배정되었습니다\".format(stu,role1))\n",
        " i +=1\n",
        " if i >= 3:\n",
        "   break \n",
        "\n",
        "#role2 역할의 사람 3명 뽑기 \n",
        "i = 0\n",
        "\n",
        "while True:\n",
        " stu = stunames[random.randint(0,len(stunames)-1)]\n",
        " stunames.remove(stu)\n",
        " print(\"{0}은 {1}역할에 배정되었습니다\".format(stu,role2))\n",
        " i +=1\n",
        " if i >= 3:\n",
        "   break \n",
        "\n",
        "\n",
        "#role3 역할의 사람 n명 뽑기  남은 사람 모두 뽑기 \n",
        "while True:\n",
        " stu = stunames[random.randint(0,len(stunames)-1)]\n",
        " stunames.remove(stu)\n",
        " print(\"{0}은 {1}역할에 배정되었습니다\".format(stu,role3))\n",
        " if len(stunames) == 0:\n",
        "   break "
      ],
      "metadata": {
        "id": "g7umfM407x6J"
      },
      "execution_count": null,
      "outputs": []
    },
    {
      "cell_type": "markdown",
      "source": [
        "**4. 학습도우미 뽑기**"
      ],
      "metadata": {
        "id": "Nu4TgDbN74xG"
      }
    },
    {
      "cell_type": "code",
      "source": [
        "import csv\n",
        "import random\n",
        "import time\n",
        "\n",
        "data = csv.reader(open('수학성적.csv', encoding = 'cp949'))\n",
        "next(data)\n",
        "\n",
        "helper = []\n",
        "x = input('기준 점수를 입력해 주세요. : ')\n",
        "\n",
        "for i in data :\n",
        "  if float(i[-1]) >= float(x) :\n",
        "    helper.append(i[1])\n",
        "\n",
        "print('오늘의 수학 도우미는?')\n",
        "time.sleep(2)\n",
        "print(random.choice(helper) + '입니다!')"
      ],
      "metadata": {
        "id": "ybUFqmoW9JTQ"
      },
      "execution_count": null,
      "outputs": []
    }
  ]
}