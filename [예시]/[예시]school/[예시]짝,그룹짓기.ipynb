{
  "nbformat": 4,
  "nbformat_minor": 0,
  "metadata": {
    "colab": {
      "name": "[예시]짝,그룹짓기.ipynb",
      "provenance": [],
      "collapsed_sections": []
    },
    "kernelspec": {
      "name": "python3",
      "display_name": "Python 3"
    },
    "language_info": {
      "name": "python"
    }
  },
  "cells": [
    {
      "cell_type": "markdown",
      "source": [
        "1. 남녀 짝 짓기"
      ],
      "metadata": {
        "id": "4z4rmXHGbybC"
      }
    },
    {
      "cell_type": "code",
      "execution_count": null,
      "metadata": {
        "id": "NQHG2hx4bwts"
      },
      "outputs": [],
      "source": [
        "import csv\n",
        "data = csv.reader(open(\"2주차데이터.csv\",  encoding = \"cp949\"))\n",
        "\n",
        "import random\n",
        "\n",
        "print(\"[안내 : 짝 배정은 다음과 같습니다.] \\n\")\n",
        "print(\"[안내 : 짝 배정은 여자와 남자로 이루어집니다.]\\n\")\n",
        "\n",
        "list_boy = []\n",
        "list_girl = []\n",
        "\n",
        "for d2 in data:\n",
        "  if d2[0] == \"여\":\n",
        "    list_girl.append(d2[2])\n",
        "  else:\n",
        "    list_boy.append(d2[2])\n",
        "\n",
        "i = 1\n",
        "\n",
        "while list_girl != [] and list_boy != []:\n",
        "  g1 = random.choice(list_girl)\n",
        "  b1 = random.choice(list_boy)\n",
        "  print(\"{}번째 짝은 {}, {}입니다.\".format(i, g1, b1))\n",
        "  i += 1\n",
        "  list_girl.remove(g1)\n",
        "  list_boy.remove(b1)\n",
        "  if list_girl == [] and list_boy != []:\n",
        "    print(\"{} 학생은 짝이 없습니다. 선생님과 해봐요~\".format(list_boy))\n",
        "  elif list_girl != [] and list_boy == []:\n",
        "    print(\"{} 학생은 짝이 없습니다. 선생님과 해봐요~\".format(list_girl))\n"
      ]
    },
    {
      "cell_type": "markdown",
      "source": [
        "2. 리더와 모둠원"
      ],
      "metadata": {
        "id": "z9leYZwdb4Hj"
      }
    },
    {
      "cell_type": "code",
      "source": [
        "import csv\n",
        "import random\n",
        "import time\n",
        "\n",
        "#0.전체 학생 이름 불러오기\n",
        "data = csv.reader(open('학생명단.csv'))\n",
        "next(data)\n",
        "students=[]\n",
        "for row in data :\n",
        "  students.append(row[-1])\n",
        "\n",
        "#1.모둠원 수 정하기\n",
        "total=len(students)\n",
        "\n",
        "print('-------------------------------------------------------')\n",
        "print('어떤 학생이 리더가 되기 적합한가요? 3가지 생각해봅시다.')\n",
        "time.sleep(3)\n",
        "\n",
        "print('-------------------------------------------------------')\n",
        "mem = int(input('모둠은 몇 개로 구성하시겠습니까? (○개)) : '))\n",
        "mem2 = print('모둠별 인원수는 약 '+str(int(total/mem))+'명 입니다!')\n",
        "print('-------------------------------------------------------')\n",
        "\n",
        "#2-1.리더 구성 시작\n",
        "print('-------------------------------------------------------')\n",
        "print('1. 리더 구성을 시작하겠습니다.')\n",
        "print('-------------------------------------------------------')\n",
        "\n",
        "#초기설정\n",
        "num=1\n",
        "leaders=[]\n",
        "members=students\n",
        "\n",
        "#2-2.데이터에 있는지 확인\n",
        "while num <= mem :\n",
        "\n",
        "  #초기화\n",
        "  a=0\n",
        "  row=[]\n",
        "\n",
        "\n",
        "  #리더명단에 넣고, 리더는 모둠원에서 빼주기\n",
        "  person=input(str(num)+'모둠 리더 친구의 이름을 적어 주세요. : ')\n",
        "\n",
        "  data = csv.reader(open('학생명단.csv'))\n",
        "  next(data)\n",
        "  for row in data:\n",
        "    if row[-1] == person: \n",
        "      leaders.append(row[-1])\n",
        "    #다른분 코드보니 중복되는걸 빼는 'set'이 있더라구요. remove 써치하고 나서 알았습니다.ㅋㅋ\n",
        "      members.remove(row[-1])\n",
        "    else:\n",
        "      a += 1\n",
        "\n",
        "  #데이터에 리더가 없으면\n",
        "  if a == total:\n",
        "    print('다시 입력해 주세요.')\n",
        "    continue\n",
        "  #데이터에 리더가 있으면\n",
        "  else:\n",
        "    num += 1\n",
        "\n",
        "print('현재 리더 친구들의 이름: '+str(leaders))\n",
        "\n",
        "\n",
        "# 랜덤 모둠 만들기\n",
        "print('-------------------------------------------------------')\n",
        "print('2. 모둠원 구성을 시작하겠습니다.')\n",
        "print('-------------------------------------------------------')\n",
        "\n",
        "i = 1\n",
        "leader2 = leaders\n",
        "member2 = members\n",
        "result1 = []\n",
        "result2 = []\n",
        "result3 = {}\n",
        "\n",
        "while i <= mem:\n",
        "  result1=random.sample(leaders,1)\n",
        "  result2=random.sample(member2, int(total/mem)-1)\n",
        "  print(\"{}모둠 :\\t 리더: {}, 모둠원: :{}\".format(i,result1,result2))\n",
        "  result3[i]=result1+result2\n",
        "  leader2=set(leader2)-set(result1)\n",
        "  member2=set(member2)-set(result2)\n",
        "  list(leader2)\n",
        "  list(member2)\n",
        "\n",
        "#'%'써서 구성원 나머지는 다른 모둠에 배치하기 // 시간없어서 다음에 이어서 할게용!\n",
        "\n",
        "  i += 1\n",
        "\n",
        "print(\"남은 구성원 {}명은 {}입니다.\".format(len(member2), member2))\n"
      ],
      "metadata": {
        "id": "LMTP5-uCbx3q"
      },
      "execution_count": null,
      "outputs": []
    }
  ]
}