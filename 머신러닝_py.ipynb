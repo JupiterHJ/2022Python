{
  "nbformat": 4,
  "nbformat_minor": 0,
  "metadata": {
    "colab": {
      "provenance": [],
      "collapsed_sections": [],
      "authorship_tag": "ABX9TyOf6HCIVvME0xH5miiJMJcQ"
    },
    "kernelspec": {
      "name": "python3",
      "display_name": "Python 3"
    },
    "language_info": {
      "name": "python"
    }
  },
  "cells": [
    {
      "cell_type": "markdown",
      "source": [
        "강의 링크: https://youtu.be/TNcfJHajqJY"
      ],
      "metadata": {
        "id": "10E8VxWrmmSz"
      }
    },
    {
      "cell_type": "code",
      "execution_count": null,
      "metadata": {
        "colab": {
          "base_uri": "https://localhost:8080/",
          "height": 35
        },
        "id": "8txznLjUiOpA",
        "outputId": "3dfae916-140f-4fce-f023-7ce90cf8a0aa"
      },
      "outputs": [
        {
          "output_type": "execute_result",
          "data": {
            "text/plain": [
              "'1.0.2'"
            ],
            "application/vnd.google.colaboratory.intrinsic+json": {
              "type": "string"
            }
          },
          "metadata": {},
          "execution_count": 3
        }
      ],
      "source": [
        "#버전 조회, 업데이트\n",
        "\n",
        "import sklearn\n",
        "sklearn.__version__\n",
        "!pip install scikit-learn --user --upgrade"
      ]
    },
    {
      "cell_type": "markdown",
      "source": [
        "#0. 다양한 평가 지표 (회귀모델)\n",
        "- MAE (Mean Absolute Error) : (실제 값과 예측 값) 차이의 절대값을, 다 더해서 평균.\n",
        "- MSE (Mean Squared Error) : 차이의 제곱을, 다 더해서 평균.\n",
        "- RMSE (Root Mean Squared Error) : 차이의 제곱에 루트를, 다 더해서 평균.\n",
        "- R2 : 결정 계수. 1-(SSE/SST) = SSR/SST. R2 는 1에 가까울수록, 나머지는 0에 가까울수록 좋음\n"
      ],
      "metadata": {
        "id": "JDLFCzFDGm64"
      }
    },
    {
      "cell_type": "code",
      "source": [
        "from sklearn.metrics import mean_absolute_error\n",
        "mean_absolute_error(y_test, y_pred) # 실제 값, 예측 값 # MAE 3.2253285188288023\n",
        "\n",
        "from sklearn.metrics import mean_squared_error\n",
        "mean_squared_error(y_test, y_pred) # MSE 19.900226981515015\n",
        "\n",
        "from sklearn.metrics import mean_squared_error\n",
        "mean_squared_error(y_test, y_pred, squared=False) # RMSE 4.460967045553578\n",
        "\n",
        "from sklearn.metrics import r2_score\n",
        "r2_score(y_test, y_pred) # R2 0.9859956178877445"
      ],
      "metadata": {
        "colab": {
          "base_uri": "https://localhost:8080/"
        },
        "id": "pDGqmoLD6TKZ",
        "outputId": "f971aefa-7648-48dc-e08e-64940d1be3eb"
      },
      "execution_count": null,
      "outputs": [
        {
          "output_type": "execute_result",
          "data": {
            "text/plain": [
              "0.9859956178877446"
            ]
          },
          "metadata": {},
          "execution_count": 35
        }
      ]
    },
    {
      "cell_type": "markdown",
      "source": [
        "#1. 선형회귀 (Linear Regression) y=mx+b\n",
        "- 선형회귀법은 최소제곱법(OLS)을 해야 함. 즉, 잔차제곱의합(RSS = SSR)인 (실제값-예측값)²을 최소화하는 것"
      ],
      "metadata": {
        "id": "yrJ60SKln8bS"
      }
    },
    {
      "cell_type": "code",
      "source": [
        "#전체적인 선형회귀 구현 방법\n",
        "import matplotlib.pyplot as plt\n",
        "import pandas as pd\n",
        "\n",
        "dataset = pd.read_csv('LinearRegressionData.csv')\n",
        "\n",
        "X = dataset.iloc[:, :-1].values \n",
        "# 처음부터 마지막까지 행, 마지막 직전 컬럼까지 데이터 (독립 변수 - 원인)\n",
        "y = dataset.iloc[:, -1].values \n",
        "# 처음부터 마지막까지 행, 마지막만 컬럼 데이터 (종속 변수 - 결과)\n",
        "\n",
        "from sklearn.linear_model import LinearRegression  # 선형회귀\n",
        "reg = LinearRegression() # 객체 생성\n",
        "reg.fit(X, y) # 학습 (모델 생성)\n",
        "y_pred = reg.predict(X) # X 에 대한 예측 값\n",
        "\n",
        "plt.scatter(X, y, color='blue') # 산점도\n",
        "plt.plot(X, y_pred, color='green') # 선 그래프\n",
        "plt.title('Score by hours') # 제목\n",
        "plt.xlabel('hours') # X 축 이름\n",
        "plt.ylabel('score') # Y 축 이름\n",
        "plt.show()\n",
        "\n",
        "reg.coef_          #기울기(m): array([10.44369694])\n",
        "reg.intercept_     #y절편(b): y=10.4436x - 0.2184\n",
        "print('9시간 공부했을 때 예상 점수 : ', reg.predict([[9]]))     # [93.77478776]"
      ],
      "metadata": {
        "colab": {
          "base_uri": "https://localhost:8080/",
          "height": 295
        },
        "id": "IDpoGcHXoco_",
        "outputId": "7b27de87-297f-4e48-e0c8-02645ff6de83"
      },
      "execution_count": null,
      "outputs": [
        {
          "output_type": "display_data",
          "data": {
            "text/plain": [
              "<Figure size 432x288 with 1 Axes>"
            ],
            "image/png": "[encoded data removed]"
          },
          "metadata": {
            "needs_background": "light"
          }
        }
      ]
    },
    {
      "cell_type": "code",
      "source": [
        "#데이터 세트 분리 (훈련,검증)\n",
        "\n",
        "import matplotlib.pyplot as plt\n",
        "import pandas as pd\n",
        "dataset = pd.read_csv('LinearRegressionData.csv')\n",
        "\n",
        "X = dataset.iloc[:, :-1].values\n",
        "y = dataset.iloc[:, -1].values\n",
        "\n",
        "from sklearn.model_selection import train_test_split\n",
        "X_train, X_test, y_train, y_test = train_test_split(X, y, test_size=0.2, random_state=0) \n",
        "# 훈련 80 : 테스트 20 으로 분리\n",
        "\n",
        "\n",
        "X, len(X) # 전체 데이터 X, 개수 20\n",
        "X_train, len(X_train) # 훈련 세트 X, 개수 16\n",
        "X_test, len(X_test) # 테스트 세트 X, 개수 4\n",
        "y, len(y) # 전체 데이터 y 20\n",
        "y_train, len(y_train) # 훈련 세트 y 16\n",
        "y_test, len(y_test) # 테스트 세트 y 4"
      ],
      "metadata": {
        "colab": {
          "base_uri": "https://localhost:8080/"
        },
        "id": "gX4cR0yYwORO",
        "outputId": "6904524e-fde9-4f88-9105-ef662caf668b"
      },
      "execution_count": null,
      "outputs": [
        {
          "output_type": "execute_result",
          "data": {
            "text/plain": [
              "(array([[ 0.5],\n",
              "        [ 1.2],\n",
              "        [ 1.8],\n",
              "        [ 2.4],\n",
              "        [ 2.6],\n",
              "        [ 3.2],\n",
              "        [ 3.9],\n",
              "        [ 4.4],\n",
              "        [ 4.5],\n",
              "        [ 5. ],\n",
              "        [ 5.3],\n",
              "        [ 5.8],\n",
              "        [ 6. ],\n",
              "        [ 6.1],\n",
              "        [ 6.2],\n",
              "        [ 6.9],\n",
              "        [ 7.2],\n",
              "        [ 8.4],\n",
              "        [ 8.6],\n",
              "        [10. ]]), 20)"
            ]
          },
          "metadata": {},
          "execution_count": 16
        }
      ]
    },
    {
      "cell_type": "code",
      "source": [
        "#훈련 데이터 학습\n",
        "\n",
        "from sklearn.linear_model import LinearRegression\n",
        "reg = LinearRegression()\n",
        "reg.fit(X_train, y_train) \n",
        "\n",
        "plt.scatter(X_train, y_train, color='blue') # 산점도\n",
        "plt.plot(X_train, reg.predict(X_train), color='green') # 선 그래프\n",
        "plt.title('Score by hours (train data)') # 제목\n",
        "plt.xlabel('hours') # X 축 이름\n",
        "plt.ylabel('score') # Y 축 이름\n",
        "plt.show()"
      ],
      "metadata": {
        "colab": {
          "base_uri": "https://localhost:8080/",
          "height": 295
        },
        "id": "qjanxk5X2o1p",
        "outputId": "3579aa7d-34a7-4171-c737-ea4db953d136"
      },
      "execution_count": null,
      "outputs": [
        {
          "output_type": "display_data",
          "data": {
            "text/plain": [
              "<Figure size 432x288 with 1 Axes>"
            ],
            "image/png": "[encoded data removed]"
          },
          "metadata": {
            "needs_background": "light"
          }
        }
      ]
    },
    {
      "cell_type": "code",
      "execution_count": null,
      "metadata": {
        "id": "67499f70",
        "colab": {
          "base_uri": "https://localhost:8080/",
          "height": 295
        },
        "outputId": "be6326ba-9aba-4ce4-c052-c5994d337e20"
      },
      "outputs": [
        {
          "output_type": "display_data",
          "data": {
            "text/plain": [
              "<Figure size 432x288 with 1 Axes>"
            ],
            "image/png": "[encoded data removed]"
          },
          "metadata": {
            "needs_background": "light"
          }
        }
      ],
      "source": [
        "#검증 데이터 학습\n",
        "\n",
        "plt.scatter(X_test, y_test, color='blue') # 산점도\n",
        "plt.plot(X_train, reg.predict(X_train), color='green') # 선 그래프\n",
        "plt.title('Score by hours (test data)') # 제목\n",
        "plt.xlabel('hours') # X 축 이름\n",
        "plt.ylabel('score') # Y 축 이름\n",
        "plt.show()"
      ]
    },
    {
      "cell_type": "code",
      "source": [
        "#모델 평가\n",
        "\n",
        "reg.coef_       #array([10.49161294])\n",
        "reg.intercept_    #0.6115562905169796"
      ],
      "metadata": {
        "id": "kQBGbKCr8KUO"
      },
      "execution_count": null,
      "outputs": []
    },
    {
      "cell_type": "markdown",
      "source": [
        "#2. 경사하강법 (Gradient Descent)\n",
        "- 경사하강법이란 경사에 따라 하강하다가 멈추는 것.\n",
        "- 학습률: 경사에 따라 내려가는 정도. 너무 크거나 적지도 않고 적당한 값을 정하는 것이 중요함.\n",
        "- 에포크(Epoch): 최적의 값을 찾기 위해 훈련 세트에 있는 모든 데이터를 한번씩 사용하는 것."
      ],
      "metadata": {
        "id": "QPx6Rwwz8J11"
      }
    },
    {
      "cell_type": "code",
      "source": [
        "#기본적 구현\n",
        "from sklearn.linear_model import SGDRegressor \n",
        "     #SGD : Stochastic Gradient Descent 확률적 경사 하강법\n",
        "sr = SGDRegressor(max_iter=200, eta0=1e-4, random_state=0, verbose=1)\n",
        "     #max_iter(Epoch횟수), eta0(학습률)\n",
        "sr.fit(X_train, y_train)\n",
        "\n",
        "plt.scatter(X_train, y_train, color='blue') # 산점도\n",
        "plt.plot(X_train, sr.predict(X_train), color='green') # 선 그래프\n",
        "plt.title('Score by hours (train data, SGD)') # 제목\n",
        "plt.xlabel('hours') # X 축 이름\n",
        "plt.ylabel('score') # Y 축 이름\n",
        "plt.show()\n",
        "\n",
        "sr.coef_, sr.intercept_ #기울기,  y절편\n",
        "#(array([10.2062811]), array([1.95017289]))\n",
        "#SGDRegressor() 객체를 생성할 때 random_state 값을 지정하지 않았으므로 결과가 다르게 나타날 수 있음"
      ],
      "metadata": {
        "colab": {
          "base_uri": "https://localhost:8080/",
          "height": 1000
        },
        "id": "g1AxSUBL9wLM",
        "outputId": "a220dc5c-f7f9-4c76-c4d9-67e978ebfc74"
      },
      "execution_count": null,
      "outputs": [
        {
          "output_type": "stream",
          "name": "stdout",
          "text": [
            "-- Epoch 1\n",
            "Norm: 0.27, NNZs: 1, Bias: 0.048869, T: 16, Avg. loss: 1484.241876\n",
            "Total training time: 0.00 seconds.\n",
            "-- Epoch 2\n",
            "Norm: 0.47, NNZs: 1, Bias: 0.083896, T: 32, Avg. loss: 1419.741822\n",
            "Total training time: 0.00 seconds.\n",
            "-- Epoch 3\n",
            "Norm: 0.64, NNZs: 1, Bias: 0.114272, T: 48, Avg. loss: 1367.983092\n",
            "Total training time: 0.00 seconds.\n",
            "-- Epoch 4\n",
            "Norm: 0.79, NNZs: 1, Bias: 0.141552, T: 64, Avg. loss: 1322.870279\n",
            "Total training time: 0.00 seconds.\n",
            "-- Epoch 5\n",
            "Norm: 0.94, NNZs: 1, Bias: 0.166772, T: 80, Avg. loss: 1282.550224\n",
            "Total training time: 0.00 seconds.\n",
            "-- Epoch 6\n",
            "Norm: 1.07, NNZs: 1, Bias: 0.190476, T: 96, Avg. loss: 1245.587071\n",
            "Total training time: 0.00 seconds.\n",
            "-- Epoch 7\n",
            "Norm: 1.20, NNZs: 1, Bias: 0.212877, T: 112, Avg. loss: 1211.227118\n",
            "Total training time: 0.00 seconds.\n",
            "-- Epoch 8\n",
            "Norm: 1.32, NNZs: 1, Bias: 0.234194, T: 128, Avg. loss: 1179.037565\n",
            "Total training time: 0.00 seconds.\n",
            "-- Epoch 9\n",
            "Norm: 1.43, NNZs: 1, Bias: 0.254556, T: 144, Avg. loss: 1148.814106\n",
            "Total training time: 0.00 seconds.\n",
            "-- Epoch 10\n",
            "Norm: 1.54, NNZs: 1, Bias: 0.274134, T: 160, Avg. loss: 1120.251662\n",
            "Total training time: 0.00 seconds.\n",
            "-- Epoch 11\n",
            "Norm: 1.65, NNZs: 1, Bias: 0.292981, T: 176, Avg. loss: 1093.110571\n",
            "Total training time: 0.00 seconds.\n",
            "-- Epoch 12\n",
            "Norm: 1.75, NNZs: 1, Bias: 0.311189, T: 192, Avg. loss: 1067.211902\n",
            "Total training time: 0.00 seconds.\n",
            "-- Epoch 13\n",
            "Norm: 1.85, NNZs: 1, Bias: 0.328785, T: 208, Avg. loss: 1042.516297\n",
            "Total training time: 0.00 seconds.\n",
            "-- Epoch 14\n",
            "Norm: 1.95, NNZs: 1, Bias: 0.345870, T: 224, Avg. loss: 1018.879566\n",
            "Total training time: 0.00 seconds.\n",
            "-- Epoch 15\n",
            "Norm: 2.04, NNZs: 1, Bias: 0.362460, T: 240, Avg. loss: 996.181074\n",
            "Total training time: 0.00 seconds.\n",
            "-- Epoch 16\n",
            "Norm: 2.13, NNZs: 1, Bias: 0.378587, T: 256, Avg. loss: 974.361266\n",
            "Total training time: 0.00 seconds.\n",
            "-- Epoch 17\n",
            "Norm: 2.22, NNZs: 1, Bias: 0.394284, T: 272, Avg. loss: 953.386926\n",
            "Total training time: 0.00 seconds.\n",
            "-- Epoch 18\n",
            "Norm: 2.31, NNZs: 1, Bias: 0.409594, T: 288, Avg. loss: 933.187164\n",
            "Total training time: 0.00 seconds.\n",
            "-- Epoch 19\n",
            "Norm: 2.39, NNZs: 1, Bias: 0.424528, T: 304, Avg. loss: 913.690408\n",
            "Total training time: 0.00 seconds.\n",
            "-- Epoch 20\n",
            "Norm: 2.48, NNZs: 1, Bias: 0.439104, T: 320, Avg. loss: 894.861051\n",
            "Total training time: 0.00 seconds.\n",
            "-- Epoch 21\n",
            "Norm: 2.56, NNZs: 1, Bias: 0.453350, T: 336, Avg. loss: 876.666125\n",
            "Total training time: 0.00 seconds.\n",
            "-- Epoch 22\n",
            "Norm: 2.64, NNZs: 1, Bias: 0.467285, T: 352, Avg. loss: 859.068639\n",
            "Total training time: 0.00 seconds.\n",
            "-- Epoch 23\n",
            "Norm: 2.71, NNZs: 1, Bias: 0.480921, T: 368, Avg. loss: 842.018081\n",
            "Total training time: 0.00 seconds.\n",
            "-- Epoch 24\n",
            "Norm: 2.79, NNZs: 1, Bias: 0.494273, T: 384, Avg. loss: 825.486145\n",
            "Total training time: 0.00 seconds.\n",
            "-- Epoch 25\n",
            "Norm: 2.86, NNZs: 1, Bias: 0.507351, T: 400, Avg. loss: 809.468053\n",
            "Total training time: 0.00 seconds.\n",
            "-- Epoch 26\n",
            "Norm: 2.94, NNZs: 1, Bias: 0.520178, T: 416, Avg. loss: 793.927559\n",
            "Total training time: 0.00 seconds.\n",
            "-- Epoch 27\n",
            "Norm: 3.01, NNZs: 1, Bias: 0.532755, T: 432, Avg. loss: 778.832690\n",
            "Total training time: 0.00 seconds.\n",
            "-- Epoch 28\n",
            "Norm: 3.08, NNZs: 1, Bias: 0.545094, T: 448, Avg. loss: 764.166106\n",
            "Total training time: 0.00 seconds.\n",
            "-- Epoch 29\n",
            "Norm: 3.15, NNZs: 1, Bias: 0.557201, T: 464, Avg. loss: 749.924129\n",
            "Total training time: 0.00 seconds.\n",
            "-- Epoch 30\n",
            "Norm: 3.21, NNZs: 1, Bias: 0.569097, T: 480, Avg. loss: 736.071588\n",
            "Total training time: 0.00 seconds.\n",
            "-- Epoch 31\n",
            "Norm: 3.28, NNZs: 1, Bias: 0.580779, T: 496, Avg. loss: 722.588889\n",
            "Total training time: 0.00 seconds.\n",
            "-- Epoch 32\n",
            "Norm: 3.35, NNZs: 1, Bias: 0.592258, T: 512, Avg. loss: 709.462708\n",
            "Total training time: 0.00 seconds.\n",
            "-- Epoch 33\n",
            "Norm: 3.41, NNZs: 1, Bias: 0.603540, T: 528, Avg. loss: 696.686817\n",
            "Total training time: 0.00 seconds.\n",
            "-- Epoch 34\n",
            "Norm: 3.47, NNZs: 1, Bias: 0.614639, T: 544, Avg. loss: 684.244367\n",
            "Total training time: 0.00 seconds.\n",
            "-- Epoch 35\n",
            "Norm: 3.53, NNZs: 1, Bias: 0.625553, T: 560, Avg. loss: 672.113885\n",
            "Total training time: 0.00 seconds.\n",
            "-- Epoch 36\n",
            "Norm: 3.60, NNZs: 1, Bias: 0.636290, T: 576, Avg. loss: 660.287442\n",
            "Total training time: 0.00 seconds.\n",
            "-- Epoch 37\n",
            "Norm: 3.65, NNZs: 1, Bias: 0.646855, T: 592, Avg. loss: 648.762655\n",
            "Total training time: 0.00 seconds.\n",
            "-- Epoch 38\n",
            "Norm: 3.71, NNZs: 1, Bias: 0.657258, T: 608, Avg. loss: 637.523840\n",
            "Total training time: 0.00 seconds.\n",
            "-- Epoch 39\n",
            "Norm: 3.77, NNZs: 1, Bias: 0.667499, T: 624, Avg. loss: 626.551012\n",
            "Total training time: 0.00 seconds.\n",
            "-- Epoch 40\n",
            "Norm: 3.83, NNZs: 1, Bias: 0.677582, T: 640, Avg. loss: 615.839418\n",
            "Total training time: 0.00 seconds.\n",
            "-- Epoch 41\n",
            "Norm: 3.89, NNZs: 1, Bias: 0.687514, T: 656, Avg. loss: 605.386802\n",
            "Total training time: 0.00 seconds.\n",
            "-- Epoch 42\n",
            "Norm: 3.94, NNZs: 1, Bias: 0.697302, T: 672, Avg. loss: 595.179604\n",
            "Total training time: 0.00 seconds.\n",
            "-- Epoch 43\n",
            "Norm: 4.00, NNZs: 1, Bias: 0.706946, T: 688, Avg. loss: 585.205525\n",
            "Total training time: 0.00 seconds.\n",
            "-- Epoch 44\n",
            "Norm: 4.05, NNZs: 1, Bias: 0.716450, T: 704, Avg. loss: 575.458493\n",
            "Total training time: 0.00 seconds.\n",
            "-- Epoch 45\n",
            "Norm: 4.10, NNZs: 1, Bias: 0.725819, T: 720, Avg. loss: 565.937753\n",
            "Total training time: 0.00 seconds.\n",
            "-- Epoch 46\n",
            "Norm: 4.16, NNZs: 1, Bias: 0.735059, T: 736, Avg. loss: 556.633179\n",
            "Total training time: 0.00 seconds.\n",
            "-- Epoch 47\n",
            "Norm: 4.21, NNZs: 1, Bias: 0.744168, T: 752, Avg. loss: 547.533995\n",
            "Total training time: 0.00 seconds.\n",
            "-- Epoch 48\n",
            "Norm: 4.26, NNZs: 1, Bias: 0.753152, T: 768, Avg. loss: 538.632849\n",
            "Total training time: 0.00 seconds.\n",
            "-- Epoch 49\n",
            "Norm: 4.31, NNZs: 1, Bias: 0.762013, T: 784, Avg. loss: 529.930377\n",
            "Total training time: 0.00 seconds.\n",
            "-- Epoch 50\n",
            "Norm: 4.36, NNZs: 1, Bias: 0.770757, T: 800, Avg. loss: 521.417265\n",
            "Total training time: 0.00 seconds.\n",
            "-- Epoch 51\n",
            "Norm: 4.41, NNZs: 1, Bias: 0.779384, T: 816, Avg. loss: 513.084023\n",
            "Total training time: 0.00 seconds.\n",
            "-- Epoch 52\n",
            "Norm: 4.46, NNZs: 1, Bias: 0.787897, T: 832, Avg. loss: 504.927495\n",
            "Total training time: 0.00 seconds.\n",
            "-- Epoch 53\n",
            "Norm: 4.50, NNZs: 1, Bias: 0.796299, T: 848, Avg. loss: 496.946253\n",
            "Total training time: 0.00 seconds.\n",
            "-- Epoch 54\n",
            "Norm: 4.55, NNZs: 1, Bias: 0.804596, T: 864, Avg. loss: 489.133754\n",
            "Total training time: 0.00 seconds.\n",
            "-- Epoch 55\n",
            "Norm: 4.60, NNZs: 1, Bias: 0.812785, T: 880, Avg. loss: 481.481960\n",
            "Total training time: 0.00 seconds.\n",
            "-- Epoch 56\n",
            "Norm: 4.64, NNZs: 1, Bias: 0.820869, T: 896, Avg. loss: 473.988460\n",
            "Total training time: 0.00 seconds.\n",
            "-- Epoch 57\n",
            "Norm: 4.69, NNZs: 1, Bias: 0.828852, T: 912, Avg. loss: 466.649980\n",
            "Total training time: 0.00 seconds.\n",
            "-- Epoch 58\n",
            "Norm: 4.73, NNZs: 1, Bias: 0.836738, T: 928, Avg. loss: 459.461740\n",
            "Total training time: 0.01 seconds.\n",
            "-- Epoch 59\n",
            "Norm: 4.78, NNZs: 1, Bias: 0.844525, T: 944, Avg. loss: 452.416650\n",
            "Total training time: 0.01 seconds.\n",
            "-- Epoch 60\n",
            "Norm: 4.82, NNZs: 1, Bias: 0.852216, T: 960, Avg. loss: 445.511862\n",
            "Total training time: 0.01 seconds.\n",
            "-- Epoch 61\n",
            "Norm: 4.86, NNZs: 1, Bias: 0.859815, T: 976, Avg. loss: 438.747190\n",
            "Total training time: 0.01 seconds.\n",
            "-- Epoch 62\n",
            "Norm: 4.91, NNZs: 1, Bias: 0.867324, T: 992, Avg. loss: 432.117062\n",
            "Total training time: 0.01 seconds.\n",
            "-- Epoch 63\n",
            "Norm: 4.95, NNZs: 1, Bias: 0.874743, T: 1008, Avg. loss: 425.615654\n",
            "Total training time: 0.01 seconds.\n",
            "-- Epoch 64\n",
            "Norm: 4.99, NNZs: 1, Bias: 0.882073, T: 1024, Avg. loss: 419.241080\n",
            "Total training time: 0.01 seconds.\n",
            "-- Epoch 65\n",
            "Norm: 5.03, NNZs: 1, Bias: 0.889318, T: 1040, Avg. loss: 412.993260\n",
            "Total training time: 0.01 seconds.\n",
            "-- Epoch 66\n",
            "Norm: 5.07, NNZs: 1, Bias: 0.896479, T: 1056, Avg. loss: 406.865688\n",
            "Total training time: 0.01 seconds.\n",
            "-- Epoch 67\n",
            "Norm: 5.11, NNZs: 1, Bias: 0.903557, T: 1072, Avg. loss: 400.853820\n",
            "Total training time: 0.01 seconds.\n",
            "-- Epoch 68\n",
            "Norm: 5.15, NNZs: 1, Bias: 0.910553, T: 1088, Avg. loss: 394.956171\n",
            "Total training time: 0.01 seconds.\n",
            "-- Epoch 69\n",
            "Norm: 5.19, NNZs: 1, Bias: 0.917469, T: 1104, Avg. loss: 389.171934\n",
            "Total training time: 0.01 seconds.\n",
            "-- Epoch 70\n",
            "Norm: 5.23, NNZs: 1, Bias: 0.924310, T: 1120, Avg. loss: 383.497301\n",
            "Total training time: 0.01 seconds.\n",
            "-- Epoch 71\n",
            "Norm: 5.27, NNZs: 1, Bias: 0.931072, T: 1136, Avg. loss: 377.927308\n",
            "Total training time: 0.01 seconds.\n",
            "-- Epoch 72\n",
            "Norm: 5.31, NNZs: 1, Bias: 0.937759, T: 1152, Avg. loss: 372.461042\n",
            "Total training time: 0.01 seconds.\n",
            "-- Epoch 73\n",
            "Norm: 5.34, NNZs: 1, Bias: 0.944372, T: 1168, Avg. loss: 367.098186\n",
            "Total training time: 0.01 seconds.\n",
            "-- Epoch 74\n",
            "Norm: 5.38, NNZs: 1, Bias: 0.950913, T: 1184, Avg. loss: 361.834923\n",
            "Total training time: 0.01 seconds.\n",
            "-- Epoch 75\n",
            "Norm: 5.42, NNZs: 1, Bias: 0.957382, T: 1200, Avg. loss: 356.666286\n",
            "Total training time: 0.01 seconds.\n",
            "-- Epoch 76\n",
            "Norm: 5.45, NNZs: 1, Bias: 0.963780, T: 1216, Avg. loss: 351.591629\n",
            "Total training time: 0.01 seconds.\n",
            "-- Epoch 77\n",
            "Norm: 5.49, NNZs: 1, Bias: 0.970109, T: 1232, Avg. loss: 346.610614\n",
            "Total training time: 0.01 seconds.\n",
            "-- Epoch 78\n",
            "Norm: 5.53, NNZs: 1, Bias: 0.976371, T: 1248, Avg. loss: 341.719867\n",
            "Total training time: 0.01 seconds.\n",
            "-- Epoch 79\n",
            "Norm: 5.56, NNZs: 1, Bias: 0.982566, T: 1264, Avg. loss: 336.915616\n",
            "Total training time: 0.01 seconds.\n",
            "-- Epoch 80\n",
            "Norm: 5.60, NNZs: 1, Bias: 0.988694, T: 1280, Avg. loss: 332.197009\n",
            "Total training time: 0.01 seconds.\n",
            "-- Epoch 81\n",
            "Norm: 5.63, NNZs: 1, Bias: 0.994759, T: 1296, Avg. loss: 327.563942\n",
            "Total training time: 0.01 seconds.\n",
            "-- Epoch 82\n",
            "Norm: 5.66, NNZs: 1, Bias: 1.000761, T: 1312, Avg. loss: 323.013592\n",
            "Total training time: 0.01 seconds.\n",
            "-- Epoch 83\n",
            "Norm: 5.70, NNZs: 1, Bias: 1.006700, T: 1328, Avg. loss: 318.542530\n",
            "Total training time: 0.01 seconds.\n",
            "-- Epoch 84\n",
            "Norm: 5.73, NNZs: 1, Bias: 1.012576, T: 1344, Avg. loss: 314.149409\n",
            "Total training time: 0.01 seconds.\n",
            "-- Epoch 85\n",
            "Norm: 5.76, NNZs: 1, Bias: 1.018393, T: 1360, Avg. loss: 309.834310\n",
            "Total training time: 0.01 seconds.\n",
            "-- Epoch 86\n",
            "Norm: 5.80, NNZs: 1, Bias: 1.024151, T: 1376, Avg. loss: 305.594532\n",
            "Total training time: 0.01 seconds.\n",
            "-- Epoch 87\n",
            "Norm: 5.83, NNZs: 1, Bias: 1.029849, T: 1392, Avg. loss: 301.427018\n",
            "Total training time: 0.01 seconds.\n",
            "-- Epoch 88\n",
            "Norm: 5.86, NNZs: 1, Bias: 1.035489, T: 1408, Avg. loss: 297.331213\n",
            "Total training time: 0.01 seconds.\n",
            "-- Epoch 89\n",
            "Norm: 5.89, NNZs: 1, Bias: 1.041072, T: 1424, Avg. loss: 293.306757\n",
            "Total training time: 0.01 seconds.\n",
            "-- Epoch 90\n",
            "Norm: 5.93, NNZs: 1, Bias: 1.046601, T: 1440, Avg. loss: 289.351553\n",
            "Total training time: 0.01 seconds.\n",
            "-- Epoch 91\n",
            "Norm: 5.96, NNZs: 1, Bias: 1.052074, T: 1456, Avg. loss: 285.462832\n",
            "Total training time: 0.01 seconds.\n",
            "-- Epoch 92\n",
            "Norm: 5.99, NNZs: 1, Bias: 1.057492, T: 1472, Avg. loss: 281.640289\n",
            "Total training time: 0.01 seconds.\n",
            "-- Epoch 93\n",
            "Norm: 6.02, NNZs: 1, Bias: 1.062856, T: 1488, Avg. loss: 277.882959\n",
            "Total training time: 0.01 seconds.\n",
            "-- Epoch 94\n",
            "Norm: 6.05, NNZs: 1, Bias: 1.068169, T: 1504, Avg. loss: 274.189046\n",
            "Total training time: 0.01 seconds.\n",
            "-- Epoch 95\n",
            "Norm: 6.08, NNZs: 1, Bias: 1.073429, T: 1520, Avg. loss: 270.556109\n",
            "Total training time: 0.01 seconds.\n",
            "-- Epoch 96\n",
            "Norm: 6.11, NNZs: 1, Bias: 1.078637, T: 1536, Avg. loss: 266.983675\n",
            "Total training time: 0.01 seconds.\n",
            "-- Epoch 97\n",
            "Norm: 6.14, NNZs: 1, Bias: 1.083795, T: 1552, Avg. loss: 263.471607\n",
            "Total training time: 0.01 seconds.\n",
            "-- Epoch 98\n",
            "Norm: 6.17, NNZs: 1, Bias: 1.088904, T: 1568, Avg. loss: 260.017988\n",
            "Total training time: 0.01 seconds.\n",
            "-- Epoch 99\n",
            "Norm: 6.19, NNZs: 1, Bias: 1.093963, T: 1584, Avg. loss: 256.620516\n",
            "Total training time: 0.01 seconds.\n",
            "-- Epoch 100\n",
            "Norm: 6.22, NNZs: 1, Bias: 1.098974, T: 1600, Avg. loss: 253.278959\n",
            "Total training time: 0.02 seconds.\n",
            "-- Epoch 101\n",
            "Norm: 6.25, NNZs: 1, Bias: 1.103937, T: 1616, Avg. loss: 249.993326\n",
            "Total training time: 0.02 seconds.\n",
            "-- Epoch 102\n",
            "Norm: 6.28, NNZs: 1, Bias: 1.108853, T: 1632, Avg. loss: 246.761305\n",
            "Total training time: 0.02 seconds.\n",
            "-- Epoch 103\n",
            "Norm: 6.31, NNZs: 1, Bias: 1.113723, T: 1648, Avg. loss: 243.580848\n",
            "Total training time: 0.02 seconds.\n",
            "-- Epoch 104\n",
            "Norm: 6.33, NNZs: 1, Bias: 1.118547, T: 1664, Avg. loss: 240.451917\n",
            "Total training time: 0.02 seconds.\n",
            "-- Epoch 105\n",
            "Norm: 6.36, NNZs: 1, Bias: 1.123325, T: 1680, Avg. loss: 237.374320\n",
            "Total training time: 0.02 seconds.\n",
            "-- Epoch 106\n",
            "Norm: 6.39, NNZs: 1, Bias: 1.128060, T: 1696, Avg. loss: 234.346451\n",
            "Total training time: 0.02 seconds.\n",
            "-- Epoch 107\n",
            "Norm: 6.42, NNZs: 1, Bias: 1.132750, T: 1712, Avg. loss: 231.366305\n",
            "Total training time: 0.02 seconds.\n",
            "-- Epoch 108\n",
            "Norm: 6.44, NNZs: 1, Bias: 1.137397, T: 1728, Avg. loss: 228.433903\n",
            "Total training time: 0.02 seconds.\n",
            "-- Epoch 109\n",
            "Norm: 6.47, NNZs: 1, Bias: 1.142001, T: 1744, Avg. loss: 225.549145\n",
            "Total training time: 0.02 seconds.\n",
            "-- Epoch 110\n",
            "Norm: 6.49, NNZs: 1, Bias: 1.146564, T: 1760, Avg. loss: 222.710438\n",
            "Total training time: 0.02 seconds.\n",
            "-- Epoch 111\n",
            "Norm: 6.52, NNZs: 1, Bias: 1.151084, T: 1776, Avg. loss: 219.915796\n",
            "Total training time: 0.02 seconds.\n",
            "-- Epoch 112\n",
            "Norm: 6.55, NNZs: 1, Bias: 1.155562, T: 1792, Avg. loss: 217.165194\n",
            "Total training time: 0.02 seconds.\n",
            "-- Epoch 113\n",
            "Norm: 6.57, NNZs: 1, Bias: 1.160000, T: 1808, Avg. loss: 214.458547\n",
            "Total training time: 0.02 seconds.\n",
            "-- Epoch 114\n",
            "Norm: 6.60, NNZs: 1, Bias: 1.164399, T: 1824, Avg. loss: 211.794544\n",
            "Total training time: 0.02 seconds.\n",
            "-- Epoch 115\n",
            "Norm: 6.62, NNZs: 1, Bias: 1.168758, T: 1840, Avg. loss: 209.171385\n",
            "Total training time: 0.02 seconds.\n",
            "-- Epoch 116\n",
            "Norm: 6.65, NNZs: 1, Bias: 1.173077, T: 1856, Avg. loss: 206.589109\n",
            "Total training time: 0.02 seconds.\n",
            "-- Epoch 117\n",
            "Norm: 6.67, NNZs: 1, Bias: 1.177358, T: 1872, Avg. loss: 204.047676\n",
            "Total training time: 0.02 seconds.\n",
            "-- Epoch 118\n",
            "Norm: 6.69, NNZs: 1, Bias: 1.181602, T: 1888, Avg. loss: 201.545887\n",
            "Total training time: 0.02 seconds.\n",
            "-- Epoch 119\n",
            "Norm: 6.72, NNZs: 1, Bias: 1.185807, T: 1904, Avg. loss: 199.082120\n",
            "Total training time: 0.02 seconds.\n",
            "-- Epoch 120\n",
            "Norm: 6.74, NNZs: 1, Bias: 1.189975, T: 1920, Avg. loss: 196.656218\n",
            "Total training time: 0.02 seconds.\n",
            "-- Epoch 121\n",
            "Norm: 6.77, NNZs: 1, Bias: 1.194106, T: 1936, Avg. loss: 194.268124\n",
            "Total training time: 0.02 seconds.\n",
            "-- Epoch 122\n",
            "Norm: 6.79, NNZs: 1, Bias: 1.198202, T: 1952, Avg. loss: 191.916704\n",
            "Total training time: 0.02 seconds.\n",
            "-- Epoch 123\n",
            "Norm: 6.81, NNZs: 1, Bias: 1.202261, T: 1968, Avg. loss: 189.600569\n",
            "Total training time: 0.02 seconds.\n",
            "-- Epoch 124\n",
            "Norm: 6.83, NNZs: 1, Bias: 1.206284, T: 1984, Avg. loss: 187.319682\n",
            "Total training time: 0.02 seconds.\n",
            "-- Epoch 125\n",
            "Norm: 6.86, NNZs: 1, Bias: 1.210273, T: 2000, Avg. loss: 185.073919\n",
            "Total training time: 0.02 seconds.\n",
            "-- Epoch 126\n",
            "Norm: 6.88, NNZs: 1, Bias: 1.214228, T: 2016, Avg. loss: 182.862329\n",
            "Total training time: 0.02 seconds.\n",
            "-- Epoch 127\n",
            "Norm: 6.90, NNZs: 1, Bias: 1.218149, T: 2032, Avg. loss: 180.683596\n",
            "Total training time: 0.02 seconds.\n",
            "-- Epoch 128\n",
            "Norm: 6.92, NNZs: 1, Bias: 1.222035, T: 2048, Avg. loss: 178.537830\n",
            "Total training time: 0.02 seconds.\n",
            "-- Epoch 129\n",
            "Norm: 6.95, NNZs: 1, Bias: 1.225888, T: 2064, Avg. loss: 176.424658\n",
            "Total training time: 0.02 seconds.\n",
            "-- Epoch 130\n",
            "Norm: 6.97, NNZs: 1, Bias: 1.229709, T: 2080, Avg. loss: 174.343157\n",
            "Total training time: 0.02 seconds.\n",
            "-- Epoch 131\n",
            "Norm: 6.99, NNZs: 1, Bias: 1.233497, T: 2096, Avg. loss: 172.292198\n",
            "Total training time: 0.02 seconds.\n",
            "-- Epoch 132\n",
            "Norm: 7.01, NNZs: 1, Bias: 1.237252, T: 2112, Avg. loss: 170.271842\n",
            "Total training time: 0.02 seconds.\n",
            "-- Epoch 133\n",
            "Norm: 7.03, NNZs: 1, Bias: 1.240976, T: 2128, Avg. loss: 168.281978\n",
            "Total training time: 0.02 seconds.\n",
            "-- Epoch 134\n",
            "Norm: 7.05, NNZs: 1, Bias: 1.244668, T: 2144, Avg. loss: 166.321731\n",
            "Total training time: 0.02 seconds.\n",
            "-- Epoch 135\n",
            "Norm: 7.07, NNZs: 1, Bias: 1.248330, T: 2160, Avg. loss: 164.389916\n",
            "Total training time: 0.02 seconds.\n",
            "-- Epoch 136\n",
            "Norm: 7.10, NNZs: 1, Bias: 1.251960, T: 2176, Avg. loss: 162.486665\n",
            "Total training time: 0.02 seconds.\n",
            "-- Epoch 137\n",
            "Norm: 7.12, NNZs: 1, Bias: 1.255560, T: 2192, Avg. loss: 160.611993\n",
            "Total training time: 0.02 seconds.\n",
            "-- Epoch 138\n",
            "Norm: 7.14, NNZs: 1, Bias: 1.259130, T: 2208, Avg. loss: 158.764844\n",
            "Total training time: 0.02 seconds.\n",
            "-- Epoch 139\n",
            "Norm: 7.16, NNZs: 1, Bias: 1.262671, T: 2224, Avg. loss: 156.944060\n",
            "Total training time: 0.02 seconds.\n",
            "-- Epoch 140\n",
            "Norm: 7.18, NNZs: 1, Bias: 1.266182, T: 2240, Avg. loss: 155.149904\n",
            "Total training time: 0.02 seconds.\n",
            "-- Epoch 141\n",
            "Norm: 7.20, NNZs: 1, Bias: 1.269663, T: 2256, Avg. loss: 153.382341\n",
            "Total training time: 0.02 seconds.\n",
            "-- Epoch 142\n",
            "Norm: 7.22, NNZs: 1, Bias: 1.273117, T: 2272, Avg. loss: 151.640512\n",
            "Total training time: 0.02 seconds.\n",
            "-- Epoch 143\n",
            "Norm: 7.24, NNZs: 1, Bias: 1.276543, T: 2288, Avg. loss: 149.923396\n",
            "Total training time: 0.02 seconds.\n",
            "-- Epoch 144\n",
            "Norm: 7.25, NNZs: 1, Bias: 1.279939, T: 2304, Avg. loss: 148.231213\n",
            "Total training time: 0.02 seconds.\n",
            "-- Epoch 145\n",
            "Norm: 7.27, NNZs: 1, Bias: 1.283308, T: 2320, Avg. loss: 146.563925\n",
            "Total training time: 0.02 seconds.\n",
            "-- Epoch 146\n",
            "Norm: 7.29, NNZs: 1, Bias: 1.286650, T: 2336, Avg. loss: 144.920702\n",
            "Total training time: 0.02 seconds.\n",
            "-- Epoch 147\n",
            "Norm: 7.31, NNZs: 1, Bias: 1.289965, T: 2352, Avg. loss: 143.300560\n",
            "Total training time: 0.02 seconds.\n",
            "-- Epoch 148\n",
            "Norm: 7.33, NNZs: 1, Bias: 1.293252, T: 2368, Avg. loss: 141.703624\n",
            "Total training time: 0.02 seconds.\n",
            "-- Epoch 149\n",
            "Norm: 7.35, NNZs: 1, Bias: 1.296513, T: 2384, Avg. loss: 140.129879\n",
            "Total training time: 0.02 seconds.\n",
            "-- Epoch 150\n",
            "Norm: 7.37, NNZs: 1, Bias: 1.299748, T: 2400, Avg. loss: 138.578704\n",
            "Total training time: 0.02 seconds.\n",
            "-- Epoch 151\n",
            "Norm: 7.39, NNZs: 1, Bias: 1.302957, T: 2416, Avg. loss: 137.049060\n",
            "Total training time: 0.02 seconds.\n",
            "-- Epoch 152\n",
            "Norm: 7.40, NNZs: 1, Bias: 1.306139, T: 2432, Avg. loss: 135.541191\n",
            "Total training time: 0.02 seconds.\n",
            "-- Epoch 153\n",
            "Norm: 7.42, NNZs: 1, Bias: 1.309296, T: 2448, Avg. loss: 134.055077\n",
            "Total training time: 0.02 seconds.\n",
            "-- Epoch 154\n",
            "Norm: 7.44, NNZs: 1, Bias: 1.312429, T: 2464, Avg. loss: 132.590102\n",
            "Total training time: 0.02 seconds.\n",
            "-- Epoch 155\n",
            "Norm: 7.46, NNZs: 1, Bias: 1.315537, T: 2480, Avg. loss: 131.145339\n",
            "Total training time: 0.02 seconds.\n",
            "-- Epoch 156\n",
            "Norm: 7.48, NNZs: 1, Bias: 1.318618, T: 2496, Avg. loss: 129.720953\n",
            "Total training time: 0.02 seconds.\n",
            "-- Epoch 157\n",
            "Norm: 7.49, NNZs: 1, Bias: 1.321677, T: 2512, Avg. loss: 128.316863\n",
            "Total training time: 0.02 seconds.\n",
            "-- Epoch 158\n",
            "Norm: 7.51, NNZs: 1, Bias: 1.324711, T: 2528, Avg. loss: 126.932497\n",
            "Total training time: 0.02 seconds.\n",
            "-- Epoch 159\n",
            "Norm: 7.53, NNZs: 1, Bias: 1.327721, T: 2544, Avg. loss: 125.567108\n",
            "Total training time: 0.02 seconds.\n",
            "-- Epoch 160\n",
            "Norm: 7.55, NNZs: 1, Bias: 1.330707, T: 2560, Avg. loss: 124.220796\n",
            "Total training time: 0.02 seconds.\n",
            "-- Epoch 161\n",
            "Norm: 7.56, NNZs: 1, Bias: 1.333669, T: 2576, Avg. loss: 122.893517\n",
            "Total training time: 0.02 seconds.\n",
            "-- Epoch 162\n",
            "Norm: 7.58, NNZs: 1, Bias: 1.336610, T: 2592, Avg. loss: 121.584761\n",
            "Total training time: 0.02 seconds.\n",
            "-- Epoch 163\n",
            "Norm: 7.60, NNZs: 1, Bias: 1.339527, T: 2608, Avg. loss: 120.293788\n",
            "Total training time: 0.02 seconds.\n",
            "-- Epoch 164\n",
            "Norm: 7.61, NNZs: 1, Bias: 1.342421, T: 2624, Avg. loss: 119.020802\n",
            "Total training time: 0.02 seconds.\n",
            "-- Epoch 165\n",
            "Norm: 7.63, NNZs: 1, Bias: 1.345292, T: 2640, Avg. loss: 117.765642\n",
            "Total training time: 0.02 seconds.\n",
            "-- Epoch 166\n",
            "Norm: 7.64, NNZs: 1, Bias: 1.348142, T: 2656, Avg. loss: 116.527760\n",
            "Total training time: 0.02 seconds.\n",
            "-- Epoch 167\n",
            "Norm: 7.66, NNZs: 1, Bias: 1.350969, T: 2672, Avg. loss: 115.306540\n",
            "Total training time: 0.02 seconds.\n",
            "-- Epoch 168\n",
            "Norm: 7.68, NNZs: 1, Bias: 1.353774, T: 2688, Avg. loss: 114.102181\n",
            "Total training time: 0.02 seconds.\n",
            "-- Epoch 169\n",
            "Norm: 7.69, NNZs: 1, Bias: 1.356558, T: 2704, Avg. loss: 112.914598\n",
            "Total training time: 0.02 seconds.\n",
            "-- Epoch 170\n",
            "Norm: 7.71, NNZs: 1, Bias: 1.359321, T: 2720, Avg. loss: 111.743328\n",
            "Total training time: 0.02 seconds.\n",
            "-- Epoch 171\n",
            "Norm: 7.72, NNZs: 1, Bias: 1.362062, T: 2736, Avg. loss: 110.587666\n",
            "Total training time: 0.02 seconds.\n",
            "-- Epoch 172\n",
            "Norm: 7.74, NNZs: 1, Bias: 1.364782, T: 2752, Avg. loss: 109.447827\n",
            "Total training time: 0.02 seconds.\n",
            "-- Epoch 173\n",
            "Norm: 7.76, NNZs: 1, Bias: 1.367482, T: 2768, Avg. loss: 108.323827\n",
            "Total training time: 0.02 seconds.\n",
            "-- Epoch 174\n",
            "Norm: 7.77, NNZs: 1, Bias: 1.370161, T: 2784, Avg. loss: 107.215111\n",
            "Total training time: 0.02 seconds.\n",
            "-- Epoch 175\n",
            "Norm: 7.79, NNZs: 1, Bias: 1.372820, T: 2800, Avg. loss: 106.120941\n",
            "Total training time: 0.02 seconds.\n",
            "-- Epoch 176\n",
            "Norm: 7.80, NNZs: 1, Bias: 1.375458, T: 2816, Avg. loss: 105.041630\n",
            "Total training time: 0.02 seconds.\n",
            "-- Epoch 177\n",
            "Norm: 7.82, NNZs: 1, Bias: 1.378076, T: 2832, Avg. loss: 103.977191\n",
            "Total training time: 0.02 seconds.\n",
            "-- Epoch 178\n",
            "Norm: 7.83, NNZs: 1, Bias: 1.380675, T: 2848, Avg. loss: 102.927103\n",
            "Total training time: 0.02 seconds.\n",
            "-- Epoch 179\n",
            "Norm: 7.85, NNZs: 1, Bias: 1.383254, T: 2864, Avg. loss: 101.890772\n",
            "Total training time: 0.02 seconds.\n",
            "-- Epoch 180\n",
            "Norm: 7.86, NNZs: 1, Bias: 1.385814, T: 2880, Avg. loss: 100.868445\n",
            "Total training time: 0.02 seconds.\n",
            "-- Epoch 181\n",
            "Norm: 7.88, NNZs: 1, Bias: 1.388354, T: 2896, Avg. loss: 99.860111\n",
            "Total training time: 0.02 seconds.\n",
            "-- Epoch 182\n",
            "Norm: 7.89, NNZs: 1, Bias: 1.390876, T: 2912, Avg. loss: 98.865277\n",
            "Total training time: 0.02 seconds.\n",
            "-- Epoch 183\n",
            "Norm: 7.90, NNZs: 1, Bias: 1.393379, T: 2928, Avg. loss: 97.883393\n",
            "Total training time: 0.02 seconds.\n",
            "-- Epoch 184\n",
            "Norm: 7.92, NNZs: 1, Bias: 1.395863, T: 2944, Avg. loss: 96.914609\n",
            "Total training time: 0.02 seconds.\n",
            "-- Epoch 185\n",
            "Norm: 7.93, NNZs: 1, Bias: 1.398328, T: 2960, Avg. loss: 95.958937\n",
            "Total training time: 0.02 seconds.\n",
            "-- Epoch 186\n",
            "Norm: 7.95, NNZs: 1, Bias: 1.400775, T: 2976, Avg. loss: 95.016048\n",
            "Total training time: 0.02 seconds.\n",
            "-- Epoch 187\n",
            "Norm: 7.96, NNZs: 1, Bias: 1.403205, T: 2992, Avg. loss: 94.085271\n",
            "Total training time: 0.02 seconds.\n",
            "-- Epoch 188\n",
            "Norm: 7.97, NNZs: 1, Bias: 1.405615, T: 3008, Avg. loss: 93.166884\n",
            "Total training time: 0.02 seconds.\n",
            "-- Epoch 189\n",
            "Norm: 7.99, NNZs: 1, Bias: 1.408008, T: 3024, Avg. loss: 92.260874\n",
            "Total training time: 0.02 seconds.\n",
            "-- Epoch 190\n",
            "Norm: 8.00, NNZs: 1, Bias: 1.410384, T: 3040, Avg. loss: 91.366887\n",
            "Total training time: 0.02 seconds.\n",
            "-- Epoch 191\n",
            "Norm: 8.02, NNZs: 1, Bias: 1.412743, T: 3056, Avg. loss: 90.484333\n",
            "Total training time: 0.02 seconds.\n",
            "-- Epoch 192\n",
            "Norm: 8.03, NNZs: 1, Bias: 1.415083, T: 3072, Avg. loss: 89.613456\n",
            "Total training time: 0.02 seconds.\n",
            "-- Epoch 193\n",
            "Norm: 8.04, NNZs: 1, Bias: 1.417407, T: 3088, Avg. loss: 88.754182\n",
            "Total training time: 0.02 seconds.\n",
            "-- Epoch 194\n",
            "Norm: 8.06, NNZs: 1, Bias: 1.419714, T: 3104, Avg. loss: 87.906185\n",
            "Total training time: 0.02 seconds.\n",
            "-- Epoch 195\n",
            "Norm: 8.07, NNZs: 1, Bias: 1.422004, T: 3120, Avg. loss: 87.069020\n",
            "Total training time: 0.02 seconds.\n",
            "-- Epoch 196\n",
            "Norm: 8.08, NNZs: 1, Bias: 1.424277, T: 3136, Avg. loss: 86.242817\n",
            "Total training time: 0.02 seconds.\n",
            "-- Epoch 197\n",
            "Norm: 8.09, NNZs: 1, Bias: 1.426533, T: 3152, Avg. loss: 85.427567\n",
            "Total training time: 0.02 seconds.\n",
            "-- Epoch 198\n",
            "Norm: 8.11, NNZs: 1, Bias: 1.428774, T: 3168, Avg. loss: 84.622964\n",
            "Total training time: 0.02 seconds.\n",
            "-- Epoch 199\n",
            "Norm: 8.12, NNZs: 1, Bias: 1.430998, T: 3184, Avg. loss: 83.828549\n",
            "Total training time: 0.02 seconds.\n",
            "-- Epoch 200\n",
            "Norm: 8.13, NNZs: 1, Bias: 1.433206, T: 3200, Avg. loss: 83.044527\n",
            "Total training time: 0.02 seconds.\n"
          ]
        },
        {
          "output_type": "stream",
          "name": "stderr",
          "text": [
            "/usr/local/lib/python3.7/dist-packages/sklearn/linear_model/_stochastic_gradient.py:1507: ConvergenceWarning: Maximum number of iteration reached before convergence. Consider increasing max_iter to improve the fit.\n",
            "  ConvergenceWarning,\n"
          ]
        },
        {
          "output_type": "display_data",
          "data": {
            "text/plain": [
              "<Figure size 432x288 with 1 Axes>"
            ],
            "image/png": "[encoded data removed]"
          },
          "metadata": {
            "needs_background": "light"
          }
        }
      ]
    },
    {
      "cell_type": "code",
      "source": [
        "sr.score(X_train, y_train) #훈련세트를 통한 모델 평가: 0.9349740699430755\n",
        "sr.score(X_test, y_test) #검증세트를 통한 모델 평가: 0.9732274354250781"
      ],
      "metadata": {
        "colab": {
          "base_uri": "https://localhost:8080/"
        },
        "id": "j3VFlJQo-6vB",
        "outputId": "78b68f35-0aad-4f2c-fd97-1245530c52f3"
      },
      "execution_count": null,
      "outputs": [
        {
          "output_type": "execute_result",
          "data": {
            "text/plain": [
              "0.884872663907813"
            ]
          },
          "metadata": {},
          "execution_count": 31
        }
      ]
    },
    {
      "cell_type": "markdown",
      "source": [
        "#3. 다중 선형 회귀 (Multiple Linear Regression)   y=b+m1x1+m2x2+...+mnxn"
      ],
      "metadata": {
        "id": "mEbm3mcUAa23"
      }
    },
    {
      "cell_type": "markdown",
      "source": [
        "1) 원-핫 인코딩\n",
        "- 범주형 데이터를 1 또는 0 으로 수정해주는 것. 예)공부장소\n",
        "\n",
        "2) 다중 공선성\n",
        "- 관계없는 D1, D2, D3 사이에 상관관계가 D3=1-(D1+D2)처럼 생길 경우, D3을 제외하고 (1,0), (0,1), (0,0)으로 나타내는 것."
      ],
      "metadata": {
        "id": "k2I_SPCdBtVs"
      }
    },
    {
      "cell_type": "code",
      "source": [
        "#원핫인코딩, 다중공선성\n",
        "\n",
        "import pandas as pd\n",
        "dataset = pd.read_csv('MultipleLinearRegressionData.csv')\n",
        "X = dataset.iloc[:, :-1].values\n",
        "y = dataset.iloc[:, -1].values\n",
        "\n",
        "from sklearn.compose import ColumnTransformer\n",
        "from sklearn.preprocessing import OneHotEncoder  \n",
        "     #place를 원핫 인코딩\n",
        "ct = ColumnTransformer(transformers=[('encoder', OneHotEncoder(drop='first'), [2])], remainder='passthrough')\n",
        "     #drop='first' 경우 3개 중 2개만 써서 다중공선성 문제 해결. [2]번째꺼를 drop함.\n",
        "     #원핫인코딩 하지 않는 나머지 칼럼은 그대로 둠. (hour:시간, absent: 결석일수 는 그대로.)\n",
        "X = ct.fit_transform(X)\n",
        "X\n",
        "\n",
        "# array([[1.0, 0.0, 0.5, 3]\n",
        "# 1 0 : Home\n",
        "# 0 1 : Library\n",
        "# 0 0 : Cafe"
      ],
      "metadata": {
        "colab": {
          "base_uri": "https://localhost:8080/"
        },
        "id": "NT1GoCSC_s2H",
        "outputId": "ca8b59a5-5919-4766-a296-23836f328e43"
      },
      "execution_count": null,
      "outputs": [
        {
          "output_type": "execute_result",
          "data": {
            "text/plain": [
              "array([[1.0, 0.0, 0.5, 3],\n",
              "       [0.0, 1.0, 1.2, 4],\n",
              "       [0.0, 0.0, 1.8, 2],\n",
              "       [0.0, 0.0, 2.4, 0],\n",
              "       [1.0, 0.0, 2.6, 2],\n",
              "       [1.0, 0.0, 3.2, 0],\n",
              "       [0.0, 1.0, 3.9, 0],\n",
              "       [0.0, 1.0, 4.4, 0],\n",
              "       [1.0, 0.0, 4.5, 5],\n",
              "       [0.0, 0.0, 5.0, 1],\n",
              "       [0.0, 0.0, 5.3, 2],\n",
              "       [0.0, 0.0, 5.8, 0],\n",
              "       [0.0, 1.0, 6.0, 3],\n",
              "       [0.0, 0.0, 6.1, 1],\n",
              "       [0.0, 1.0, 6.2, 1],\n",
              "       [1.0, 0.0, 6.9, 4],\n",
              "       [0.0, 0.0, 7.2, 2],\n",
              "       [1.0, 0.0, 8.4, 1],\n",
              "       [0.0, 1.0, 8.6, 1],\n",
              "       [0.0, 1.0, 10.0, 0]], dtype=object)"
            ]
          },
          "metadata": {},
          "execution_count": 32
        }
      ]
    },
    {
      "cell_type": "code",
      "source": [
        "#데이터 세트 분리\n",
        "from sklearn.model_selection import train_test_split\n",
        "X_train, X_test, y_train, y_test = train_test_split(X, y, test_size=0.2, random_state=0)"
      ],
      "metadata": {
        "id": "p0wHFAxxFPss"
      },
      "execution_count": null,
      "outputs": []
    },
    {
      "cell_type": "code",
      "source": [
        "#모델링 학습\n",
        "from sklearn.linear_model import LinearRegression\n",
        "reg = LinearRegression()\n",
        "reg.fit(X_train, y_train)\n",
        "\n",
        "#y절편, 기울기 등\n",
        "y_pred = reg.predict(X_test)   #array([ 92.15457859,  10.23753043, 108.36245302,  38.14675204])\n",
        "                               #y_test: array([ 90,   8, 100,  38], dtype=int64)\n",
        "reg.coef_   #array([-5.82712824, -1.04450647, 10.40419528, -1.64200104])\n",
        "reg.intercept_  #5.365006706544747"
      ],
      "metadata": {
        "colab": {
          "base_uri": "https://localhost:8080/"
        },
        "id": "rPAUfAoXFdyi",
        "outputId": "4a7ca0f9-df73-43ce-9780-95238d8e7e4c"
      },
      "execution_count": null,
      "outputs": [
        {
          "output_type": "execute_result",
          "data": {
            "text/plain": [
              "5.365006706544776"
            ]
          },
          "metadata": {},
          "execution_count": 34
        }
      ]
    },
    {
      "cell_type": "code",
      "source": [
        "reg.score(X_train, y_train) # 훈련 세트평가: 0.9623352565265527\n",
        "reg.score(X_test, y_test) # 테스트 세트평가: 0.9859956178877445"
      ],
      "metadata": {
        "id": "4Yj1baPpF8q6"
      },
      "execution_count": null,
      "outputs": []
    },
    {
      "cell_type": "markdown",
      "source": [
        "#4. 다항회귀 (Polynomial Regression)  y=b+m1x+m2x²+..."
      ],
      "metadata": {
        "id": "6aGLUmiLQeIG"
      }
    },
    {
      "cell_type": "code",
      "source": [
        "#공부 시간에 따른 시험 점수 (우등생)\n",
        "#3-1. 단순 선형 회귀 (Simple Linear Regression)\n",
        "\n",
        "import numpy as np\n",
        "import matplotlib.pyplot as plt\n",
        "import pandas as pd\n",
        "dataset = pd.read_csv('PolynomialRegressionData.csv')\n",
        "\n",
        "X = dataset.iloc[:, :-1].values\n",
        "y = dataset.iloc[:, -1].values\n",
        "\n",
        "from sklearn.linear_model import LinearRegression\n",
        "reg = LinearRegression()\n",
        "reg.fit(X, y) # 전체 데이터로 학습\n",
        "\n",
        "plt.scatter(X, y, color='blue') # 산점도\n",
        "plt.plot(X, reg.predict(X), color='green') # 선 그래프\n",
        "plt.title('Score by hours (genius)') # 제목\n",
        "plt.xlabel('hours') # X 축 이름\n",
        "plt.ylabel('score') # Y 축 이름\n",
        "plt.show()\n",
        "\n",
        "reg.score(X, y) # 전체 데이터를 통한 모델 평가 : 0.8169296513411765"
      ],
      "metadata": {
        "colab": {
          "base_uri": "https://localhost:8080/",
          "height": 295
        },
        "id": "0kXL9QuERKOa",
        "outputId": "5cae8395-f6b9-4597-881f-24fa856bb7f5"
      },
      "execution_count": null,
      "outputs": [
        {
          "output_type": "display_data",
          "data": {
            "text/plain": [
              "<Figure size 432x288 with 1 Axes>"
            ],
            "image/png": "[encoded data removed]"
          },
          "metadata": {
            "needs_background": "light"
          }
        }
      ]
    },
    {
      "cell_type": "code",
      "source": [
        "X"
      ],
      "metadata": {
        "colab": {
          "base_uri": "https://localhost:8080/"
        },
        "id": "PxJl20LOSxrT",
        "outputId": "4559949f-ce8b-44c9-80a7-bc5da21b5df8"
      },
      "execution_count": null,
      "outputs": [
        {
          "output_type": "execute_result",
          "data": {
            "text/plain": [
              "array([[0.2],\n",
              "       [0.5],\n",
              "       [0.8],\n",
              "       [0.9],\n",
              "       [1.2],\n",
              "       [2.4],\n",
              "       [2.5],\n",
              "       [2.6],\n",
              "       [2.9],\n",
              "       [3.1],\n",
              "       [3.2],\n",
              "       [3.3],\n",
              "       [3.7],\n",
              "       [3.9],\n",
              "       [4. ],\n",
              "       [4.1],\n",
              "       [4.2],\n",
              "       [4.4],\n",
              "       [4.7],\n",
              "       [4.8]])"
            ]
          },
          "metadata": {},
          "execution_count": 41
        }
      ]
    },
    {
      "cell_type": "code",
      "source": [
        "#다항 회귀 (Polynomial Regression)\n",
        "\n",
        "from sklearn.preprocessing import PolynomialFeatures\n",
        "poly_reg = PolynomialFeatures(degree=2) # 2차\n",
        "X_poly = poly_reg.fit_transform(X)   #X_poly[:5]: 5번째까지 [x^0, x^1, x^2] 출력\n",
        " # poly_reg.get_feature_names_out() : array(['1', 'x0', 'x0^2', 'x0^3', 'x0^4']\n",
        "\n",
        "lin_reg = LinearRegression()\n",
        "lin_reg.fit(X_poly, y)    #모델생성(학습)\n",
        "\n",
        "plt.scatter(X, y, color='blue')\n",
        "plt.plot(X, lin_reg.predict(poly_reg.fit_transform(X)), color='green')\n",
        "plt.title('Score by hours (genius)') # 제목\n",
        "plt.xlabel('hours') # X 축 이름\n",
        "plt.ylabel('score') # Y 축 이름\n",
        "plt.show()"
      ],
      "metadata": {
        "colab": {
          "base_uri": "https://localhost:8080/",
          "height": 295
        },
        "id": "KIAq_-kqSjp_",
        "outputId": "4a15c749-b42d-4e33-d203-f0864822d9f7"
      },
      "execution_count": null,
      "outputs": [
        {
          "output_type": "display_data",
          "data": {
            "text/plain": [
              "<Figure size 432x288 with 1 Axes>"
            ],
            "image/png": "[encoded data removed]"
          },
          "metadata": {
            "needs_background": "light"
          }
        }
      ]
    },
    {
      "cell_type": "code",
      "source": [
        "X_range = np.arange(min(X), max(X), 0.1) \n",
        "  # X의 최소값에서 최대값까지의 범위를 0.1 단위로 잘라서 데이터를 생성\n",
        "X_range                          #array([0.2, 0.3, 0.4, 0.5, 0.6, 0.7, ... , 4.7]) = shape(46,)\n",
        "X_range = X_range.reshape(-1, 1) # row 개수는 자동으로 계산, column 개수는 1개 = shape(46,1)\n",
        "\n",
        "plt.scatter(X, y, color='blue')\n",
        "plt.plot(X_range, lin_reg.predict(poly_reg.fit_transform(X_range)), color='green')\n",
        "plt.title('Score by hours (genius)') # 제목\n",
        "plt.xlabel('hours') # X 축 이름\n",
        "plt.ylabel('score') # Y 축 이름\n",
        "plt.show()"
      ],
      "metadata": {
        "colab": {
          "base_uri": "https://localhost:8080/",
          "height": 295
        },
        "id": "isFSMxwXUATB",
        "outputId": "f34c7ce6-7f83-4a67-af0f-0e10f8d40f09"
      },
      "execution_count": null,
      "outputs": [
        {
          "output_type": "display_data",
          "data": {
            "text/plain": [
              "<Figure size 432x288 with 1 Axes>"
            ],
            "image/png": "[encoded data removed]"
          },
          "metadata": {
            "needs_background": "light"
          }
        }
      ]
    },
    {
      "cell_type": "code",
      "source": [
        "#평가 / 공부 시간에 따른 시험 성적 예측\n",
        "reg.predict([[2]]) # 2시간을 공부했을 때 선형 회귀 모델의 예측: array([19.85348988])\n",
        "lin_reg.predict(poly_reg.fit_transform([[2]])) # 2시간을 공부했을 때 다항 회귀 모델의 예측: array([8.70559135])\n",
        "lin_reg.score(X_poly, y): 0.9782775579000045"
      ],
      "metadata": {
        "id": "wdks-GIdRKk_"
      },
      "execution_count": null,
      "outputs": []
    },
    {
      "cell_type": "markdown",
      "source": [
        "#5. 로지스틱 회귀 (Logistic Regression)  P=1/(1+e^-x)\n",
        "- 주어진 데이터를 정해진 범주에 따라 분류."
      ],
      "metadata": {
        "id": "PdzrgixIVy3a"
      }
    },
    {
      "cell_type": "code",
      "source": [
        "#공부 시간에 따른 자격증 시험 합격 가능성\n",
        "import numpy as np\n",
        "import matplotlib.pyplot as plt\n",
        "import pandas as pd\n",
        "dataset = pd.read_csv('LogisticRegressionData.csv')\n",
        "X = dataset.iloc[:, :-1].values\n",
        "y = dataset.iloc[:, -1].values\n",
        "\n",
        "#데이터 분리\n",
        "from sklearn.model_selection import train_test_split\n",
        "X_train, X_test, y_train, y_test = train_test_split(X, y, test_size=0.2, random_state=0)\n",
        "\n",
        "#학습 (로지스틱 회귀 모델)\n",
        "from sklearn.linear_model import LogisticRegression\n",
        "classifier = LogisticRegression()\n",
        "classifier.fit(X_train, y_train)\n",
        "\n",
        "classifier.predict([[6]])          #6시간 공부했을 때 합격할 것으로 예측: array([1])\n",
        "classifier.predict_proba([[6]])    #합격할 확률: 불합격 확률 14%, 합격 확률 86%: array([[0.14150735, 0.85849265]])\n",
        "classifier.predict([[4]])          #4시간 공부했을 때 불합격: array([0])\n",
        "classifier.predict_proba([[4]])    #합격할 확률: 불합격 확률 62%, 합격 확률 38%: array([[0.6249966, 0.3750034]])\n",
        "\n",
        "y_pred = classifier.predict(X_test)  #예측 값: array([1, 0, 1, 1]\n",
        "y_test                               #실제 값(테스트 세트): array([1, 0, 1, 0]\n",
        "X_test                               #공부 시간(테스트 세트): array([[ 8.6], [ 1.2], [10. ], [ 4.5]])\n",
        "\n",
        "classifier.score(X_test, y_test)      #모델 평가: 전체 테스트 세트 4개 중에서 분류 예측을 올바로 맞힌 개수 3개 -> 3/4 : 0.75"
      ],
      "metadata": {
        "colab": {
          "base_uri": "https://localhost:8080/"
        },
        "id": "kQk_lMiuWuPb",
        "outputId": "acffa62c-4a8f-42ff-a4b2-c4a9046c2294"
      },
      "execution_count": null,
      "outputs": [
        {
          "output_type": "execute_result",
          "data": {
            "text/plain": [
              "0.75"
            ]
          },
          "metadata": {},
          "execution_count": 47
        }
      ]
    },
    {
      "cell_type": "code",
      "source": [
        "#데이터 시각화(훈련 세트)\n",
        "\n",
        "X_range = np.arange(min(X), max(X), 0.1) \n",
        "#X의 최소값에서 최대값까지를 0.1 단위로 잘라서 데이터 생성 (0.5~9.9)\n",
        "\n",
        "p = 1 / (1 + np.exp(-(classifier.coef_ * X_range + classifier.intercept_))) \n",
        "p = p.reshape(-1) # 1차원 배열 형태로 변경\n",
        "\n",
        "plt.scatter(X_train, y_train, color='blue')\n",
        "plt.plot(X_range, p, color='green')\n",
        "plt.plot(X_range, np.full(len(X_range), 0.5), color='red') # X_range 개수만큼 0.5 로 가득찬 배열 만들기\n",
        "plt.title('Probability by hours')\n",
        "plt.xlabel('hours')\n",
        "plt.ylabel('P')\n",
        "plt.show()"
      ],
      "metadata": {
        "colab": {
          "base_uri": "https://localhost:8080/",
          "height": 295
        },
        "id": "3GcSw8ZTYc9_",
        "outputId": "d0432179-dc3c-40a9-ffe2-dc6c9f34311a"
      },
      "execution_count": null,
      "outputs": [
        {
          "output_type": "display_data",
          "data": {
            "text/plain": [
              "<Figure size 432x288 with 1 Axes>"
            ],
            "image/png": "[encoded data removed]"
          },
          "metadata": {
            "needs_background": "light"
          }
        }
      ]
    },
    {
      "cell_type": "code",
      "source": [
        "#데이터 시각화 (테스트 세트)\n",
        "plt.scatter(X_test, y_test, color='blue')\n",
        "plt.plot(X_range, p, color='green')\n",
        "plt.plot(X_range, np.full(len(X_range), 0.5), color='red') # X_range 개수만큼 0.5 로 가득찬 배열 만들기\n",
        "plt.title('Probability by hours (test)')\n",
        "plt.xlabel('hours')\n",
        "plt.ylabel('P')\n",
        "plt.show()\n",
        "\n",
        "classifier.predict_proba([[4.5]]) \n",
        "#4.5시간 공부했을 때 확률 (모델에서는 51% 확률로 합격 예측, 실제로는 불합격): array([[0.48310686, 0.51689314]])"
      ],
      "metadata": {
        "colab": {
          "base_uri": "https://localhost:8080/",
          "height": 295
        },
        "id": "GIbblqx4Y8xF",
        "outputId": "e6b4fcbd-2653-4217-ef5f-d412cc13db63"
      },
      "execution_count": null,
      "outputs": [
        {
          "output_type": "display_data",
          "data": {
            "text/plain": [
              "<Figure size 432x288 with 1 Axes>"
            ],
            "image/png": "[encoded data removed]"
          },
          "metadata": {
            "needs_background": "light"
          }
        }
      ]
    },
    {
      "cell_type": "markdown",
      "source": [
        "#6. 혼동행렬 (Confusion Matrix)"
      ],
      "metadata": {
        "id": "8ee8ey4TaKQU"
      }
    },
    {
      "cell_type": "code",
      "source": [
        "from sklearn.metrics import confusion_matrix\n",
        "cm = confusion_matrix(y_test, y_pred)\n",
        "cm\n",
        "\n",
        "#                  예측-불합격              예측-합격\n",
        "# 실제-불합격   TRUE NEGATIVE (TN)       FALSE POSITIVE (FP)\n",
        "# 실제-합 격    FALSE NEGATIVE (FN)      TRUE POSITIVE (TP)\n",
        "\n",
        "#array([[1, 1],\n",
        "#       [0, 2]], dtype=int64)\n",
        "#4개 중에서, TN=1, FP=1, TP=2. "
      ],
      "metadata": {
        "id": "o19_rg9tW0KO"
      },
      "execution_count": null,
      "outputs": []
    },
    {
      "cell_type": "markdown",
      "source": [
        "#비지도학습\n",
        "#1. k-평균 (K-Means)\n",
        "- k값을 설정 후, 지정된 k개 만큼 랜덤 좌표를 설정하고, 모든 데이터로부터 가장 가까운 중심점을 선택. 데이터들의 평균 중심으로 중심점을 이동하고, 중심점이 더이상 이동되지 않을 때까지 반복함."
      ],
      "metadata": {
        "id": "Wh70MXsjdoK9"
      }
    },
    {
      "cell_type": "code",
      "source": [
        "import os    #경고대응\n",
        "os.environ['OMP_NUM_THREADS'] = '1'\n",
        "import numpy as np\n",
        "import matplotlib.pyplot as plt\n",
        "import pandas as pd\n",
        "dataset = pd.read_csv('KMeansData.csv')\n",
        "X = dataset.iloc[:, :].values  # 비지도학습이므로 y는 없음\n",
        "\n",
        "#데이터 시각화(전체)\n",
        "plt.scatter(X[:, 0], X[:, 1]) # x축:hour, y축:score\n",
        "plt.title('Score by hours')\n",
        "plt.xlabel('hours')\n",
        "plt.ylabel('score')\n",
        "plt.show()"
      ],
      "metadata": {
        "colab": {
          "base_uri": "https://localhost:8080/",
          "height": 295
        },
        "id": "8QyKLhHpd0VS",
        "outputId": "6c3755c4-4a05-4935-d706-e2fafffc2cb6"
      },
      "execution_count": null,
      "outputs": [
        {
          "output_type": "display_data",
          "data": {
            "text/plain": [
              "<Figure size 432x288 with 1 Axes>"
            ],
            "image/png": "[encoded data removed]"
          },
          "metadata": {
            "needs_background": "light"
          }
        }
      ]
    },
    {
      "cell_type": "code",
      "source": [
        "#데이터 시각화 (축 범위 통일)\n",
        "plt.scatter(X[:, 0], X[:, 1]) # x축 : hour, y축 : score\n",
        "plt.title('Score by hours')\n",
        "plt.xlabel('hours')\n",
        "plt.xlim(0, 100)\n",
        "plt.ylabel('score')\n",
        "plt.ylim(0, 100)\n",
        "plt.show()"
      ],
      "metadata": {
        "colab": {
          "base_uri": "https://localhost:8080/",
          "height": 295
        },
        "id": "Bt5f_KaRfwQX",
        "outputId": "55b5c6a6-e561-4ccd-be33-62d79418ceeb"
      },
      "execution_count": null,
      "outputs": [
        {
          "output_type": "display_data",
          "data": {
            "text/plain": [
              "<Figure size 432x288 with 1 Axes>"
            ],
            "image/png": "[encoded data removed]"
          },
          "metadata": {
            "needs_background": "light"
          }
        }
      ]
    },
    {
      "cell_type": "code",
      "source": [
        "#피처 스케일링 (Feature Scaling)\n",
        "from sklearn.preprocessing import StandardScaler\n",
        "sc = StandardScaler()\n",
        "X = sc.fit_transform(X)\n",
        "X[:5]  #array([[ 0.68729921,  0.73538376],...\n",
        "\n",
        "plt.figure(figsize=(5, 5))\n",
        "plt.scatter(X[:, 0], X[:, 1])\n",
        "plt.title('Score by hours')\n",
        "plt.xlabel('hours')\n",
        "plt.ylabel('score')\n",
        "plt.show()"
      ],
      "metadata": {
        "colab": {
          "base_uri": "https://localhost:8080/",
          "height": 350
        },
        "id": "4k_nPs-1gmEw",
        "outputId": "cd955b34-8fd0-4aaf-d3c5-eb7d1a0f39b4"
      },
      "execution_count": null,
      "outputs": [
        {
          "output_type": "display_data",
          "data": {
            "text/plain": [
              "<Figure size 360x360 with 1 Axes>"
            ],
            "image/png": "[encoded data removed]"
          },
          "metadata": {
            "needs_background": "light"
          }
        }
      ]
    },
    {
      "cell_type": "code",
      "source": [
        "#최적의 K 값 찾기 (엘보우 방식 Elbow Method)\n",
        "\n",
        "from sklearn.cluster import KMeans\n",
        "inertia_list = []\n",
        "for i in range(1, 11):\n",
        "    kmeans = KMeans(n_clusters=i, init='k-means++', random_state=0)\n",
        "    kmeans.fit(X)\n",
        "    inertia_list.append(kmeans.inertia_) # 각 지점으로부터 클러스터의 중심(centroid) 까지의 거리의 제곱의 합\n",
        "    \n",
        "plt.plot(range(1, 11), inertia_list)\n",
        "plt.title('Elbow Method')\n",
        "plt.xlabel('n_clusters')\n",
        "plt.ylabel('inertia')\n",
        "plt.show()"
      ],
      "metadata": {
        "colab": {
          "base_uri": "https://localhost:8080/",
          "height": 296
        },
        "id": "V0ORfdJchF5q",
        "outputId": "d417e328-d70b-45b7-b858-d886f593df14"
      },
      "execution_count": null,
      "outputs": [
        {
          "output_type": "display_data",
          "data": {
            "text/plain": [
              "<Figure size 432x288 with 1 Axes>"
            ],
            "image/png": "[encoded data removed]"
          },
          "metadata": {
            "needs_background": "light"
          }
        }
      ]
    },
    {
      "cell_type": "code",
      "source": [
        "#최적의 K(4) 값으로 KMeans 학습\n",
        "\n",
        "K = 4       #최적의 K 값\n",
        "kmeans = KMeans(n_clusters=K, random_state=0)   #kmeans.fit(X)\n",
        "y_kmeans = kmeans.fit_predict(X)   #0~3 사이의 값을 가져옴\n",
        "\n",
        "centers = kmeans.cluster_centers_     #클러스터의 중심점 (centroid) 좌표\n",
        "for cluster in range(K):\n",
        "    plt.scatter(X[y_kmeans == cluster, 0], X[y_kmeans == cluster, 1], s=100, edgecolor='black') # 각 데이터\n",
        "    plt.scatter(centers[cluster, 0], centers[cluster, 1], s=300, edgecolor='black', color='yellow', marker='s') # 중심점 네모\n",
        "    plt.text(centers[cluster, 0], centers[cluster, 1], cluster, va='center', ha='center') # 클러스터 텍스트 출력\n",
        "    \n",
        "plt.title('Score by hours')\n",
        "plt.xlabel('hours')\n",
        "plt.ylabel('score')\n",
        "plt.show()"
      ],
      "metadata": {
        "colab": {
          "base_uri": "https://localhost:8080/",
          "height": 295
        },
        "id": "0PBGn-_ihX1F",
        "outputId": "c0cd8dec-e148-409e-bbad-bb1b68e9bc64"
      },
      "execution_count": null,
      "outputs": [
        {
          "output_type": "display_data",
          "data": {
            "text/plain": [
              "<Figure size 432x288 with 1 Axes>"
            ],
            "image/png": "[encoded data removed]"
          },
          "metadata": {
            "needs_background": "light"
          }
        }
      ]
    },
    {
      "cell_type": "code",
      "source": [
        "#데이터 시각화 (스케일링 원복)\n",
        "\n",
        "X_org = sc.inverse_transform(X)    #Feature Scaling 된 데이터를 다시 원복\n",
        "centers_org = sc.inverse_transform(centers)\n",
        "\n",
        "for cluster in range(K):\n",
        "    plt.scatter(X_org[y_kmeans == cluster, 0], X_org[y_kmeans == cluster, 1], s=100, edgecolor='black') # 각 데이터\n",
        "    plt.scatter(centers_org[cluster, 0], centers_org[cluster, 1], s=300, edgecolor='black', color='yellow', marker='s') # 중심점 네모\n",
        "    plt.text(centers_org[cluster, 0], centers_org[cluster, 1], cluster, va='center', ha='center') # 클러스터 텍스트 출력\n",
        "    \n",
        "plt.title('Score by hours')\n",
        "plt.xlabel('hours')\n",
        "plt.ylabel('score')\n",
        "plt.show()"
      ],
      "metadata": {
        "colab": {
          "base_uri": "https://localhost:8080/",
          "height": 295
        },
        "id": "S7w9quwad0i5",
        "outputId": "c73138aa-d844-4305-df95-339a82b92876"
      },
      "execution_count": null,
      "outputs": [
        {
          "output_type": "display_data",
          "data": {
            "text/plain": [
              "<Figure size 432x288 with 1 Axes>"
            ],
            "image/png": "[encoded data removed]"
          },
          "metadata": {
            "needs_background": "light"
          }
        }
      ]
    },
    {
      "cell_type": "markdown",
      "source": [
        "#프로젝트\n",
        "#1. 인구 통계학적 필터링"
      ],
      "metadata": {
        "id": "0BjWSL97in0Q"
      }
    },
    {
      "cell_type": "code",
      "source": [],
      "metadata": {
        "id": "zS4SXibmioHu"
      },
      "execution_count": null,
      "outputs": []
    }
  ]
}